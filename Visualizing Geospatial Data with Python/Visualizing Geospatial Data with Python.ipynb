{
 "metadata": {
  "language_info": {
   "codemirror_mode": {
    "name": "ipython",
    "version": 3
   },
   "file_extension": ".py",
   "mimetype": "text/x-python",
   "name": "python",
   "nbconvert_exporter": "python",
   "pygments_lexer": "ipython3",
   "version": "3.8.3-final"
  },
  "orig_nbformat": 2,
  "kernelspec": {
   "name": "python3",
   "display_name": "Python 3"
  }
 },
 "nbformat": 4,
 "nbformat_minor": 2,
 "cells": [
  {
   "cell_type": "markdown",
   "metadata": {},
   "source": [
    "# Ch. 1 - Building 2-layer maps: combining polygons and scatterplots"
   ]
  },
  {
   "cell_type": "markdown",
   "metadata": {},
   "source": [
    "## Styling a scatterplot\n",
    "\n",
    "In this exercise, you'll be using plt.scatter() to plot the father and son height data from the video. The father_son DataFrame is available in your workspace. In each scatterplot, plot father_son.fheight as x-axis and father_son.sheight as y-axis.\n",
    "\n",
    "### Instructions\n",
    "\n",
    "#### Section 1\n",
    "* Import the `pyplot` module from `matplotlib` with the usual alias.\n",
    "* Create a scatterplot of father and son heights with a square marker (encoded as `s`) that is `'darkred'`. Show your plot.\n",
    "\n",
    "#### Section 2\n",
    "* Edit the code to change the markers for your scatterplot of father heights vs son heights. Make the markers `'yellow'` with a `'darkblue'` edgecolor.\n",
    "\n",
    "#### Section 3\n",
    "* Add gridlines and axes labels (`'father height (inches)'` and `'son height (inches)'`) to your scatterplot.\n",
    "* Give the plot a title of `'Son Height as a Function of Father Height'`."
   ]
  },
  {
   "cell_type": "code",
   "execution_count": null,
   "metadata": {},
   "outputs": [],
   "source": [
    "# Import matplotlib.pyplot\n",
    "import matplotlib.pyplot as plt\n",
    "\n",
    "# Scatterplot 1 - father heights vs son heights with darkred square markers\n",
    "plt.scatter(father_son.fheight, father_son.sheight, c = 'darkred', marker = 's')\n",
    "\n",
    "# Show your plot\n",
    "plt.show()\n",
    "\n",
    "# Import matplotlib.pyplot\n",
    "import matplotlib.pyplot as plt\n",
    "\n",
    "# Scatterplot 2 - yellow markers with darkblue borders\n",
    "plt.scatter(father_son.fheight, father_son.sheight, c = 'yellow', edgecolor = 'darkblue')\n",
    "\n",
    "# Show the plot\n",
    "plt.show()\n",
    "\n",
    "# Import matplotlib.pyplot\n",
    "import matplotlib.pyplot as plt\n",
    "\n",
    "# Scatterplot 3\n",
    "plt.scatter(father_son.fheight, father_son.sheight,  c = 'yellow', edgecolor = 'darkblue')\n",
    "plt.grid()\n",
    "plt.xlabel('father height (inches)')\n",
    "plt.ylabel('son height (inches)')\n",
    "plt.title('Son Height as a Function of Father Height')\n",
    "\n",
    "# Show your plot\n",
    "plt.show()"
   ]
  },
  {
   "cell_type": "markdown",
   "metadata": {},
   "source": [
    "## Extracting longitude and latitude\n",
    "\n",
    "A DataFrame named df has been loaded to your workspace. Complete the code to extract longitude and latitude to new, separate columns.\n",
    "\n",
    "### Instructions\n",
    "* Print the first few rows with `print()` and `df.head()`.\n",
    "* Use a list comprehension to extract latitude to a new column called lat.\n",
    "* Use a list comprehension to extract longitude to a new column called lng.\n",
    "* Print the first few rows with `print()` and `df.head()` again to confirm the new columns."
   ]
  },
  {
   "cell_type": "code",
   "execution_count": null,
   "metadata": {},
   "outputs": [],
   "source": [
    "# print the first few rows of df \n",
    "print(df.head())\n",
    "\n",
    "# extract latitude to a new column: lat\n",
    "df['lat'] = [loc[0] for loc in df.Location]\n",
    "\n",
    "# extract longitude to a new column: lng\n",
    "df['lng'] = [loc[1] for loc in df.Location]\n",
    "\n",
    "# print the first few rows of df again\n",
    "print(df.head())"
   ]
  },
  {
   "cell_type": "markdown",
   "metadata": {},
   "source": [
    "## Plotting chicken locations\n",
    "\n",
    "Now you will create a scatterplot that shows where the Nashville chickens are!\n",
    "\n",
    "### Instructions\n",
    "* The path to the chicken dataset is in the variable `chickens_path`. Use the `read_csv` function of `pandas` to load it into a DataFrame called `chickens`.\n",
    "* Use the `.head()` function to look at the first few rows.\n",
    "* Next add the `x` and `y` arguments to `plt.scatter()` to plot the locations of the Nashville chickens. Use the default marker and color options.\n",
    "* Show the plot using `plt.show()`."
   ]
  },
  {
   "cell_type": "code",
   "execution_count": null,
   "metadata": {},
   "outputs": [],
   "source": [
    "# Import pandas and matplotlib.pyplot using their customary aliases\n",
    "import pandas as pd\n",
    "import matplotlib.pyplot as plt\n",
    "\n",
    "# Load the dataset\n",
    "chickens = pd.read_csv(chickens_path)\n",
    "\n",
    "# Look at the first few rows of the chickens DataFrame\n",
    "print(chickens.head())\n",
    "\n",
    "# Plot the locations of all Nashville chicken permits\n",
    "plt.scatter(x = chickens.lng, y = chickens.lat)\n",
    "\n",
    "# Show the plot\n",
    "plt.show()"
   ]
  },
  {
   "cell_type": "markdown",
   "metadata": {},
   "source": [
    "## Creating a GeoDataFrame & examining the geometry\n",
    "\n",
    "Let's see where service districts are in Nashville. The path to the service district shapefile has been stored in the variable `shapefile_path`.\n",
    "\n",
    "### Instructions\n",
    "* Import `geopandas` with its common alias `gpd`.\n",
    "* Read in the service district shapefile using `geopandas` and look at the first 5 rows using the `head()` method.\n",
    "* Print the geometry field in the first row (rowname is `'0'`) to see the data contained in that field. You will pass `service_district.loc[0, 'geometry']` to the `print()` function to do this."
   ]
  },
  {
   "cell_type": "code",
   "execution_count": null,
   "metadata": {},
   "outputs": [],
   "source": [
    "# Import geopandas\n",
    "import geopandas as gpd \n",
    "\n",
    "# Read in the services district shapefile and look at the first few rows.\n",
    "service_district = gpd.read_file(shapefile_path)\n",
    "print(service_district.head())\n",
    "\n",
    "# Print the contents of the service districts geometry in the first row\n",
    "print(service_district.loc[0, 'geometry'])"
   ]
  },
  {
   "cell_type": "markdown",
   "metadata": {},
   "source": [
    "## Plotting shapefile polygons\n",
    "\n",
    "The next step is to show the map of polygons. We have imported matplotlib.pyplot as plt and geopandas as gpd, A GeoDataFrame of the service districts called `service_district` is in your workspace.\n",
    "\n",
    "### Instructions\n",
    "* First plot the service districts without additonal arguments by calling `.plot()` on the GeoDataFrame.\n",
    "* Take a look at it with `plt.show()`. This has been done for you.\n",
    "* Now use the `.plot()` method again, but this time add `column='name'` to color the shapes according to their names and `legend=True` to see those names. Remember to show the plot."
   ]
  },
  {
   "cell_type": "code",
   "execution_count": null,
   "metadata": {},
   "outputs": [],
   "source": [
    "# Import packages\n",
    "import geopandas as gpd\n",
    "import matplotlib.pyplot as plt\n",
    "\n",
    "# Plot the Service Districts without any additional arguments\n",
    "service_district.plot()\n",
    "plt.show()\n",
    "\n",
    "# Plot the Service Districts, color them according to name, and show a legend\n",
    "service_district.plot(column = 'name', legend = True)\n",
    "plt.show()"
   ]
  },
  {
   "cell_type": "markdown",
   "metadata": {},
   "source": [
    "## Plotting points over polygons - part 1\n",
    "\n",
    "Make a basic plot of the service districts with the chicken locations. The packages needed have already been imported for you. The `chickens` DataFrame and `service_district` GeoDataFrame are in your workspace.\n",
    "\n",
    "### Instructions\n",
    "* Plot the shapefile for the service districts, using the `name` column to color the polygons.\n",
    "* Add chicken locations, using the `lat` and `lng` columns from the `chickens` DataFrame, and make them black.\n",
    "* Show your plot."
   ]
  },
  {
   "cell_type": "code",
   "execution_count": null,
   "metadata": {},
   "outputs": [],
   "source": [
    "# Plot the service district shapefile\n",
    "service_district.plot(column='name')\n",
    "\n",
    "# Add the chicken locations\n",
    "plt.scatter(x=chickens['lng'], y=chickens['lat'], c='black')\n",
    "\n",
    "# Show the plot\n",
    "plt.show()"
   ]
  },
  {
   "cell_type": "markdown",
   "metadata": {},
   "source": [
    "## Plotting points over polygons - part 2\n",
    "\n",
    "We have loaded the usual libraries as `pd`, `plt`, and `gpd`, the chickens dataset as `chickens`, and the service districts as `service_district`. Plot the service districts and chicken permits together to see what story your visualization tells.\n",
    "\n",
    "### Instructions\n",
    "* Start by plotting the GeoDataFrame with the service districts. Use the `name` column for your legend color.\n",
    "* Next plot latitude and longitude from the chicken data to create a scatterplot. Specify `'black'` for the marker color and give them a `'white'` outline.\n",
    "* Give the plot a title: `'Nashville Chicken Permits'` and label the x-axis as `'longitude'` and the y-axis as `'latitude'`.\n",
    "* Add grid lines and show your plot."
   ]
  },
  {
   "cell_type": "code",
   "execution_count": null,
   "metadata": {},
   "outputs": [],
   "source": [
    "# Plot the service district shapefile\n",
    "service_district.plot(column='name', legend=True)\n",
    "\n",
    "# Add the chicken locations\n",
    "plt.scatter(x=chickens['lng'], y=chickens['lat'], c='black', edgecolor = 'white')\n",
    "\n",
    "\n",
    "# Add labels and title\n",
    "plt.title('Nashville Chicken Permits')\n",
    "plt.xlabel('longitude')\n",
    "plt.ylabel('latitude')\n",
    "\n",
    "# Add grid lines and show the plot\n",
    "plt.grid()\n",
    "plt.show()"
   ]
  },
  {
   "cell_type": "markdown",
   "metadata": {},
   "source": [
    "# Ch. 2 - Creating and joining GeoDataFrames"
   ]
  },
  {
   "cell_type": "markdown",
   "metadata": {},
   "source": [
    "## Colormaps\n",
    "\n",
    "When you want to differentiate regions, but not imply any type of relationship between the regions, a qualitative colormap is the best choice. In this exercise you'll compare a qualitative colormap to a sequential (quantitative) colormap using the school districts GeoDataFrame. It is available in your workspace as `school_districts`.\n",
    "\n",
    "### Instructions\n",
    "\n",
    "#### Section 1\n",
    "* Plot `school_districts` with the `tab20` colormap. Use `'district'` to create a legend and set `legend_kwds = lgnd_kwds`.\n",
    "\n",
    "#### Section 2\n",
    "* Plot `school_districts` with the sequential summer colormap. Keep the other arguments as they are.\n",
    "\n",
    "#### Section 3\n",
    "* Plot the school districts without setting the column. Use the qualitative `Set3` colormap and set `legend = True`."
   ]
  },
  {
   "cell_type": "code",
   "execution_count": null,
   "metadata": {},
   "outputs": [],
   "source": [
    "# Set legend style\n",
    "lgnd_kwds = {'title': 'School Districts',\n",
    "               'loc': 'upper left', 'bbox_to_anchor': (1, 1.03), 'ncol': 1}\n",
    "\n",
    "# Plot the school districts using the tab20 colormap (qualitative)\n",
    "school_districts.plot(column = 'district', cmap = 'tab20', legend = True, legend_kwds = lgnd_kwds)\n",
    "plt.xlabel('Latitude')\n",
    "plt.ylabel('Longitude')\n",
    "plt.title('Nashville School Districts')\n",
    "plt.show()\n",
    "\n",
    "# Set legend style\n",
    "lgnd_kwds = {'title': 'School Districts',\n",
    "               'loc': 'upper left', 'bbox_to_anchor': (1, 1.03), 'ncol': 1}\n",
    "\n",
    "# Plot the school districts using the summer colormap (sequential)\n",
    "school_districts.plot(column = 'district', cmap = 'summer', legend = True, legend_kwds = lgnd_kwds)\n",
    "plt.xlabel('Latitude')\n",
    "plt.ylabel('Longitude')\n",
    "plt.title('Nashville School Districts')\n",
    "plt.show();\n",
    "\n",
    "# Set legend style\n",
    "lgnd_kwds = {'title': 'School Districts',\n",
    "               'loc': 'upper left', 'bbox_to_anchor': (1, 1.03), 'ncol': 1}\n",
    "\n",
    "# Plot the school districts using Set3 colormap without the column argument\n",
    "school_districts.plot(cmap = 'Set3', legend = True, legend_kwds = lgnd_kwds)\n",
    "plt.xlabel('Latitude')\n",
    "plt.ylabel('Longitude')\n",
    "plt.title('Nashville School Districts')\n",
    "plt.show();"
   ]
  },
  {
   "cell_type": "markdown",
   "metadata": {},
   "source": [
    "## Map Nashville neighborhoods\n",
    "\n",
    "This time you'll read a GeoJSON file in to a GeoDataFrame to take a quick peek at where Nashville neighborhoods are.\n",
    "\n",
    "### Instructions\n",
    "* Import `geopandas` and `matplotlib.pyplot` using the customary aliases.\n",
    "* Read in the `neighborhoods` GeoJSON file to a GeoDataFrame called `neighborhoods` and print the first few rows with `.head()`. The path to this file is stored in a variable called `neighborhoods_path`.\n",
    "* Plot `neighborhoods` coloring the polygons by the `name` column of the GeoDataFrame and using the `Dark2` color map. This time, don't include a legend.\n",
    "* Show the plot."
   ]
  },
  {
   "cell_type": "code",
   "execution_count": null,
   "metadata": {},
   "outputs": [],
   "source": [
    "import geopandas as gpd\n",
    "import matplotlib.pyplot as plt\n",
    "\n",
    "# Read in the neighborhoods geojson file\n",
    "neighborhoods = gpd.read_file(neighborhoods_path)\n",
    "\n",
    "# Print the first few rows of neighborhoods\n",
    "print(neighborhoods.head())\n",
    "\n",
    "# Plot the neighborhoods, color according to name and use the Dark2 colormap\n",
    "neighborhoods.plot(column = 'name', cmap = 'Dark2')\n",
    "\n",
    "# Show the plot.\n",
    "plt.show()"
   ]
  },
  {
   "cell_type": "markdown",
   "metadata": {},
   "source": [
    "## Changing coordinate reference systems\n",
    "\n",
    "In this exercise you will learn how to find a GeoDataFrame's coordinate reference system and how to change it. The school districts GeoDataFrame is available in your workspace as `school_districts`.\n",
    "\n",
    "### Instructions\n",
    "* Print the first row of `school_districts` and the `crs` property of this GeoDataFrame.\n",
    "* Convert the coordinate reference system of `school_districts` to `epsg:3857`.\n",
    "* Print the `crs` property again to confirm that it was changed."
   ]
  },
  {
   "cell_type": "code",
   "execution_count": null,
   "metadata": {},
   "outputs": [],
   "source": [
    "# Print the first row of school districts GeoDataFrame and the crs\n",
    "print(school_districts.head(1))\n",
    "print(school_districts.crs)\n",
    "\n",
    "# Convert the crs to epsg:3857\n",
    "school_districts.geometry = school_districts.geometry.to_crs(epsg = 3857)\n",
    "                        \n",
    "# Print the first row of school districts GeoDataFrame and the crs again\n",
    "print(school_districts.head(1))\n",
    "print(school_districts.crs)"
   ]
  },
  {
   "cell_type": "markdown",
   "metadata": {},
   "source": [
    "## Construct a GeoDataFrame from a DataFrame\n",
    "\n",
    "In this exercise, you will construct a geopandas GeoDataFrame from the Nashville Public Art DataFrame. You will need to import the `Point` constructor from the `shapely.geometry` module to create a geometry column in `art` before you can create a GeoDataFrame from `art`. This will get you ready to spatially join the art data and the neighborhoods data in order to discover which neighborhood has the most art.\n",
    "\n",
    "The Nashville Public Art data has been loaded for you as `art`.\n",
    "\n",
    "### Instructions\n",
    "* Import `Point` from the `shapely.geometry` module.\n",
    "* Print the `head()` of the art data.\n",
    "* Complete the code for a lambda expression that will create a Point geometry column from the `lng` and `lat` columns in art. Remember that longitude comes first!\n",
    "* Build a GeoDataFrame using `art` and call it `art_geo`. Set `crs` equal to `neighborhoods.crs` and set `geometry` equal to the column you just created. Print the `type()` of `art_geo` to verify it is a GeoDataFrame."
   ]
  },
  {
   "cell_type": "code",
   "execution_count": null,
   "metadata": {},
   "outputs": [],
   "source": [
    "import pandas as pd\n",
    "import geopandas as gpd\n",
    "from shapely.geometry import Point\n",
    "import matplotlib.pyplot as plt\n",
    "\n",
    "# Print the first few rows of the art DataFrame\n",
    "print(art.head())\n",
    "\n",
    "# Create a geometry column from lng & lat\n",
    "art['geometry'] = art.apply(lambda x: Point(float(x.lng), float(x.lat)), axis=1)\n",
    "\n",
    "# Create a GeoDataFrame from art and verify the type\n",
    "art_geo = gpd.GeoDataFrame(art, crs = neighborhoods.crs, geometry = art.geometry)\n",
    "print(type(art_geo))"
   ]
  },
  {
   "cell_type": "markdown",
   "metadata": {},
   "source": [
    "## Spatial join practice\n",
    "\n",
    "Is there a difference between `art` (point data) that intersects with `neighborhoods` (polygon data) and `art` (point data) within `neighborhoods` (polygon data)? Explore different spatial joins with the `art_geo` and neighborhoods GeoDataFrames, which are available in your workspace.\n",
    "\n",
    "### Instructions\n",
    "\n",
    "#### Section 1\n",
    "* Write a spatial join to find the art in `art_geo` that intersects with neighborhoods. Call this `art_intersect_neighborhoods` and print the `.shape` property to see how many rows and columns resulted.\n",
    "\n",
    "#### Section 2\n",
    "* Now write a spatial join to find the art in `art_geo` that is within `neighborhoods`. Call this `art_within_neighborhoods` and take a look at the `.shape` property to see how many rows and columns resulted.\n",
    "\n",
    "#### Section 3\n",
    "* Finally, write a spatial join to find the art locations in `art_geo` that contain `neighborhoods`. Call this GeoDataFrame `art_containing_neighborhoods` and take a look at the `.shape` property to see how many rows and columns resulted."
   ]
  },
  {
   "cell_type": "code",
   "execution_count": null,
   "metadata": {},
   "outputs": [],
   "source": [
    "# Spatially join art_geo and neighborhoods \n",
    "art_intersect_neighborhoods = gpd.sjoin(art_geo, neighborhoods, op = 'intersects')\n",
    "\n",
    "# Print the shape property of art_intersect_neighborhoods\n",
    "print(art_intersect_neighborhoods.shape)\n",
    "\n",
    "# Create art_within_neighborhoods by spatially joining art_geo and neighborhoods\n",
    "art_within_neighborhoods = gpd.sjoin(art_geo, neighborhoods, op = 'within')\n",
    "\n",
    "# Print the shape property of art_within_neighborhoods\n",
    "print(art_within_neighborhoods.shape)\n",
    "\n",
    "# Spatially join art_geo and neighborhoods and using the contains op\n",
    "art_containing_neighborhoods = gpd.sjoin(art_geo, neighborhoods, op = 'contains')\n",
    "\n",
    "# Print the shape property of art_containing_neighborhoods\n",
    "print(art_containing_neighborhoods.shape)"
   ]
  },
  {
   "cell_type": "markdown",
   "metadata": {},
   "source": [
    "## Finding the neighborhood with the most public art\n",
    "\n",
    "Now that you have created `art_geo`, a GeoDataFrame, from the `art` DataFrame, you can join it spatially to the neighborhoods data to see what art is in each neighborhood.\n",
    "\n",
    "### Instructions\n",
    "* Merge the `art_geo` and `neighborhoods` GeoDataFrames with a spatial join to create a new GeoDataFrame called `neighborhood_art`. Find the art that is within `neighborhoods`.\n",
    "* Print the first few rows of the neighborhood art GeoDataFrame."
   ]
  },
  {
   "cell_type": "code",
   "execution_count": null,
   "metadata": {},
   "outputs": [],
   "source": [
    "# import packages\n",
    "import geopandas as gpd\n",
    "import pandas as pd\n",
    "\n",
    "# Spatially join neighborhoods with art_geo\n",
    "neighborhood_art = gpd.sjoin(art_geo, neighborhoods, op = \"within\")\n",
    "\n",
    "# Print the first few rows\n",
    "print(neighborhood_art.head())"
   ]
  },
  {
   "cell_type": "markdown",
   "metadata": {},
   "source": [
    "## Aggregating points within polygons\n",
    "\n",
    "Now that you have spatially joined `art` and `neighborhoods`, you can group, aggregate, and sort the data to find which neighborhood has the most public art. You can count artwork titles to see how many artworks are in each neighborhood.\n",
    "\n",
    "### Instructions\n",
    "* Get just `name` and `title` from `neighborhood_art` and then group by each neighborhood's name (`name`). Save this as `neighborhood_art_grouped`\n",
    "* Aggregate `neighborhood_art_grouped` to see how many artworks are within each polygon. Use the `.agg('count')` function to get a count of art in each neighborhood and sort the results with `.sort_values()`, sorting by `title` with `ascending` set to `False`. Print it."
   ]
  },
  {
   "cell_type": "code",
   "execution_count": null,
   "metadata": {},
   "outputs": [],
   "source": [
    "# Get name and title from neighborhood_art and group by name\n",
    "neighborhood_art_grouped = neighborhood_art[['name', 'title']].groupby('name')\n",
    "\n",
    "# Aggregate the grouped data and count the artworks within each polygon\n",
    "print(neighborhood_art_grouped.agg('count').sort_values(by = 'title', ascending = False))"
   ]
  },
  {
   "cell_type": "markdown",
   "metadata": {},
   "source": [
    "## Plotting the Urban Residents neighborhood and art\n",
    "\n",
    "Now you know that most art is in the Urban Residents neighborhood. In this exercise, you'll create a plot of art in that neighborhood. First you will subset just the `urban_art` from `neighborhood_art` and you'll subset the `urban_polygon` from `neighborhoods`. Then you will create a plot of the polygon as `ax` before adding a plot of the art.\n",
    "\n",
    "### Instructions\n",
    "* Create a GeoDataFrame called `urban_art` using the `.loc[]` accessor to get only the art in the `\"Urban Residents\"` neighborhood.\n",
    "* Use `.loc[]` again to create a GeoDataFrame called `urban_polygon` from `neighborhoods` with only the `\"Urban Residents\"` polygon.\n",
    "* Plot `urban_polygon` as `ax` and set `color` to `lightgreen`.\n",
    "* Plot the art in `urban_art`. Pass three arguments: Set `ax = ax` to add this plot to the `urban_polygon`, use `type` to label the points, and set `legend = True`."
   ]
  },
  {
   "cell_type": "code",
   "execution_count": null,
   "metadata": {},
   "outputs": [],
   "source": [
    "# Create urban_art from neighborhood_art where the neighborhood name is Urban Residents\n",
    "urban_art = neighborhood_art.loc[neighborhood_art.name == 'Urban Residents']\n",
    "\n",
    "# Get just the Urban Residents neighborhood polygon and save it as urban_polygon\n",
    "urban_polygon = neighborhoods.loc[neighborhoods.name == \"Urban Residents\"]\n",
    "\n",
    "# Plot the urban_polygon as ax \n",
    "ax = urban_polygon.plot(color = 'lightgreen')\n",
    "\n",
    "# Add a plot of the urban_art and show it\n",
    "urban_art.plot(ax = ax, column = 'type', legend = True);\n",
    "plt.show()"
   ]
  },
  {
   "cell_type": "markdown",
   "metadata": {},
   "source": [
    "# Ch. 3 - GeoSeries and folium"
   ]
  },
  {
   "cell_type": "markdown",
   "metadata": {},
   "source": [
    "## Find the area of the Urban Residents neighborhood\n",
    "\n",
    "How big is the Urban Residents neighborhood?\n",
    "\n",
    "### Instructions\n",
    "* Print the urban polygon and notice the units of each longitude/latitude pair.\n",
    "* Create `urban_poly_3857` by calling `to_crs()` on `urban_polygon` and print the head again. Notice the units of each longitude/latitude pair have changed.\n",
    "* Print the area of the `urban_poly_3857` geometry. Remember to divide by 10**6 to get kilometers squared."
   ]
  },
  {
   "cell_type": "code",
   "execution_count": null,
   "metadata": {},
   "outputs": [],
   "source": [
    "# Print the head of the urban polygon \n",
    "print(urban_polygon.head())\n",
    "\n",
    "# Create a copy of the urban_polygon using EPSG:3857 and print the head\n",
    "urban_poly_3857 = urban_polygon.to_crs(epsg = 3857)\n",
    "print(urban_poly_3857.head())\n",
    "\n",
    "# Print the area of urban_poly_3857 in kilometers squared\n",
    "area = urban_poly_3857.geometry.area / 10**6\n",
    "print('The area of the Urban Residents neighborhood is ', area[0], ' km squared')"
   ]
  },
  {
   "cell_type": "markdown",
   "metadata": {},
   "source": [
    "## The center of the Urban Residents neighborhood\n",
    "\n",
    "Now you'll find the center point of the urban_poly_3857 and plot it over the polygon.\n",
    "\n",
    "### Instructions\n",
    "* Create `downtown_center`, from `urban_poly_3857` using the GeoSeries `centroid` attribute.\n",
    "* Print the datatype of `downtown_center`.\n",
    "* Plot `urban_poly_3857` as `ax` using `lightgreen` for the color.\n",
    "* Plot the `downtown_center`, setting `ax = ax` and `color = black`. The x-axis ticks are rotated for you. We've included the code to show the plot."
   ]
  },
  {
   "cell_type": "code",
   "execution_count": null,
   "metadata": {},
   "outputs": [],
   "source": [
    "# Create downtown_center from urban_poly_3857\n",
    "downtown_center = urban_poly_3857.geometry.centroid\n",
    "\n",
    "# Print the type of downtown_center \n",
    "print(type(downtown_center))\n",
    "\n",
    "# Plot the urban_poly_3857 as ax and add the center point\n",
    "ax = urban_poly_3857.plot(color = 'lightgreen')\n",
    "downtown_center.plot(ax = ax, color = 'black')\n",
    "plt.xticks(rotation = 45)\n",
    "\n",
    "# Show the plot\n",
    "plt.show()"
   ]
  },
  {
   "cell_type": "markdown",
   "metadata": {},
   "source": [
    "## Prepare to calculate distances\n",
    "\n",
    "In this exercise you will prepare a GeoDataFrame called `art_dist_meters` with the locations of downtown art converted to meters using EPSG:3857. You will use `art_dist_meters` in the next exercise to calculate the distance of each artwork from the center of the Urban Residents neighborhood in meters.\n",
    "\n",
    "The `art` data is in your workspace, along with `urban_poly_3857` and `center_point`, the center point of the Urban Residents neighborhood. A geometry column called `geometry` that uses degrees has already been created in the `art` DataFrame.\n",
    "\n",
    "### Instructions\n",
    "* Create a GeoDataFrame called `art_dist_meters`, using the `art` DataFrame and the `geometry` column from `art`. Set `crs = {'init': 'epsg:4326'}` since the geometry is in decimal degrees. Print the first two rows.\n",
    "* Now explicitly set the coordinate reference system to EPSG:3857 for `art_dist_meters` by using `to_crs()`. Print the first two rows again.\n",
    "* Add a column called `center` to `art_dist_meters`, setting it equal to `center_point` for every row."
   ]
  },
  {
   "cell_type": "code",
   "execution_count": null,
   "metadata": {},
   "outputs": [],
   "source": [
    "# Import packages\n",
    "from shapely.geometry import Point\n",
    "import geopandas as gpd\n",
    "import pandas as pd\n",
    "\n",
    "# Create art_dist_meters using art and the geometry from art\n",
    "art_dist_meters = gpd.GeoDataFrame(art, geometry = art.geometry, crs = {'init': 'epsg:4326'})\n",
    "print(art_dist_meters.head(2))\n",
    "\n",
    "# Set the crs of art_dist_meters to use EPSG:3857\n",
    "art_dist_meters.geometry = art_dist_meters.geometry.to_crs(epsg = 3857)\n",
    "print(art_dist_meters.head(2))\n",
    "\n",
    "# Add a column to art_meters, center\n",
    "art_dist_meters['center'] = center_point"
   ]
  },
  {
   "cell_type": "markdown",
   "metadata": {},
   "source": [
    "## Art distances from neighborhood center\n",
    "\n",
    "Now that you have the center point and the art locations in the units we need to calculate distances in meters, it's time to perform that step.\n",
    "\n",
    "### Instructions\n",
    "* Import the package to help with pretty printing.\n",
    "* Create a dictionary, `art_distances` by iterating through `art_dist_meters`, using `title` as the key and the `distance()` from `center` as the value. Pass `center` as the `other` argument to `GeoSeries.distance()`.\n",
    "* Pretty print `art_distances` using the `pprint` method of `pprint`."
   ]
  },
  {
   "cell_type": "code",
   "execution_count": null,
   "metadata": {},
   "outputs": [],
   "source": [
    "# Import package for pretty printing\n",
    "import pprint\n",
    "\n",
    "# Build a dictionary of titles and distances for Urban Residents art\n",
    "art_distances = {}\n",
    "for row in art_dist_meters.iterrows():\n",
    "    vals = row[1]\n",
    "    key = vals['title']\n",
    "    ctr = vals['center']\n",
    "    art_distances[key] = vals['geometry'].distance(other=ctr)\n",
    "\n",
    "# Pretty print the art_distances\n",
    "pprint.pprint(art_distances)"
   ]
  },
  {
   "cell_type": "markdown",
   "metadata": {},
   "source": [
    "## Create a folium location from the urban centroid\n",
    "\n",
    "In order to construct a folium map of the Urban Residents neighborhood, you need to build a coordinate pair location that is formatted for folium.\n",
    "\n",
    "### Instructions\n",
    "* Print the head of `urban_polygon`, which is in your workspace.\n",
    "* Store the first occurrence of center as `urban_center` and print `urban_center`. This has been done for you.\n",
    "* Create an array from `urban_center` that reverses the order of longitude and latitude. Call this `urban_location`.\n",
    "* Print `urban_location`. This has been done for you."
   ]
  },
  {
   "cell_type": "code",
   "execution_count": null,
   "metadata": {},
   "outputs": [],
   "source": [
    "# Print the head of the urban_polygon\n",
    "print(urban_polygon.head())\n",
    "\n",
    "# Create urban_center from the urban_polygon center\n",
    "urban_center = urban_polygon.centroid[0]\n",
    "\n",
    "# Print urban_center\n",
    "print(urban_center)\n",
    "\n",
    "# Create array for folium called urban_location\n",
    "urban_location = [urban_center.y, urban_center.x]\n",
    "\n",
    "# Print urban_location\n",
    "print(urban_location)"
   ]
  },
  {
   "cell_type": "markdown",
   "metadata": {},
   "source": [
    "## Create a folium map of downtown Nashville\n",
    "\n",
    "In this exercise you will create a street map of downtown Nashville using folium.\n",
    "\n",
    "### Instructions\n",
    "* Construct a folium map called `downtown_map`. Use the `urban_location` array you created in the previous exercise and set the initial zoom level to 15.\n",
    "* Display your folium map object with the provided display function."
   ]
  },
  {
   "cell_type": "code",
   "execution_count": null,
   "metadata": {},
   "outputs": [],
   "source": [
    "# Construct a folium map with urban_location\n",
    "downtown_map = folium.Map(location = urban_location, zoom_start = 15)\n",
    "\n",
    "# Display the map\n",
    "display(downtown_map)"
   ]
  },
  {
   "cell_type": "markdown",
   "metadata": {},
   "source": [
    "## Folium street map of the downtown neighborhood\n",
    "\n",
    "This time you will create the folium map of downtown and add the Urban Residents neighborhood area from `urban_polygon`. The `urban_polygon` has been printed to your console.\n",
    "\n",
    "### Instructions\n",
    "* Create an array called `folium_loc` from `urban_polygon.center`\n",
    "* Create a folium map called `downtown_map`. Set the `location` argument equal to `folium_loc` and initialize the map with a `zoom_start` of `15`.\n",
    "* Pass the geometry from the `urban_polygon` GeoDataFrame to the `folium.GeoJson()` method. Then call `add_to()` on that."
   ]
  },
  {
   "cell_type": "code",
   "execution_count": null,
   "metadata": {},
   "outputs": [],
   "source": [
    "# Create array for called folium_loc from the urban_polygon center point\n",
    "point = urban_polygon.centroid[0]\n",
    "folium_loc = [point.y, point.x]\n",
    "\n",
    "# Construct a map from folium_loc: downtown_map\n",
    "downtown_map = folium.Map(location = folium_loc, zoom_start = 15)\n",
    "\n",
    "# Draw our neighborhood: Urban Residents\n",
    "folium.GeoJson(urban_polygon.geometry).add_to(downtown_map)\n",
    "\n",
    "# Display the map\n",
    "display(downtown_map)"
   ]
  },
  {
   "cell_type": "markdown",
   "metadata": {},
   "source": [
    "## Adding markers for the public art\n",
    "\n",
    "Now that you have added the polygon for the Urban Residents neighborhood to your folium street map, it's time to add the locations of the art within the neighborhood. You can do that by creating folium markers. Each marker needs a location assigned. Use `iterrows()` to loop through the data to grab the values you need.\n",
    "\n",
    "### Instructions\n",
    "* First take a look at the tuple returned by `iterrows()` by printing the first and second values.\n",
    "* Assign the second value of the `iterrows()` tuple to `row_values`. Create a location formatted for folium, use it to build a marker, and add it to the `downtown_map`.\n",
    "* Display the map."
   ]
  },
  {
   "cell_type": "code",
   "execution_count": null,
   "metadata": {},
   "outputs": [],
   "source": [
    "# Iterate through the urban_art and print each part of tuple returned\n",
    "for row in urban_art.iterrows():\n",
    "    print('first part: ', row[0])\n",
    "    print('second part: ', row[1])\n",
    "\n",
    "# Create a location and marker with each iteration for the downtown_map\n",
    "for row in urban_art.iterrows():\n",
    "    row_values = row[1] \n",
    "    location = [row_values['lat'], row_values['lng']]\n",
    "    marker = folium.Marker(location = location)\n",
    "    marker.add_to(downtown_map)\n",
    "\n",
    "# Display the map\n",
    "display(downtown_map)"
   ]
  },
  {
   "cell_type": "markdown",
   "metadata": {},
   "source": [
    "## Troubleshooting data issues\n",
    "\n",
    "You will be building popups for the downtown art using the `title` and `desc` columns from the `urban_art` DataFrame. Here, you will inspect those columns to identify and clean up any problematic values.\n",
    "\n",
    "### Instructions\n",
    "* Print and inspect the values in the `title` column of the `urban_art` DataFrame.\n",
    "* Print and inspect the values in the `desc` column of the `urban_art` DataFrame.\n",
    "* Use the `fillna()` method to replace the `NaN` values in the `desc` column with empty strings, and use `.str.replace` to replace the apostrophes (') with back-ticks (`).\n",
    "* Print the descriptions again to verify your work."
   ]
  },
  {
   "cell_type": "code",
   "execution_count": null,
   "metadata": {},
   "outputs": [],
   "source": [
    "# Print the urban_art titles\n",
    "print(urban_art.title)\n",
    "\n",
    "#Print the urban_art descriptions\n",
    "print(urban_art.desc)\n",
    "\n",
    "# Replace Nan and ' values in description\n",
    "urban_art.desc.fillna('', inplace = True)\n",
    "urban_art.desc = urban_art.desc.str.replace(\"'\", \"`\")\n",
    "\n",
    "#Print the urban_art descriptions again\n",
    "print(urban_art.desc)"
   ]
  },
  {
   "cell_type": "markdown",
   "metadata": {},
   "source": [
    "## A map of downtown art\n",
    "\n",
    "Now you will assign a popup to each marker to give information about the artwork at each location. In particular you will assign the art title and description to the popup for each marker. You will do so by creating the map object downtown_map, then add the popups, and finally use the display function to show your map.\n",
    "\n",
    "One warning before you start: you'll need to ensure that all instances of single quotes (') are removed from the pop-up message, otherwise your plot will not render!\n",
    "\n",
    "### Instructions\n",
    "* For each row in `urban_art`, build a popup message that includes the title and description for the corresponding artwork.\n",
    "* Complete the code to replace all instances of single quotes (') with backticks (`) in the popup messages.\n",
    "* Display the finished map."
   ]
  },
  {
   "cell_type": "code",
   "execution_count": null,
   "metadata": {},
   "outputs": [],
   "source": [
    "# Construct downtown map\n",
    "downtown_map = folium.Map(location = nashville, zoom_start = 15)\n",
    "folium.GeoJson(urban_polygon).add_to(downtown_map)\n",
    "\n",
    "# Create popups inside the loop you built to create the markers\n",
    "for row in urban_art.iterrows():\n",
    "    row_values = row[1] \n",
    "    location = [row_values['lat'], row_values['lng']]\n",
    "    popup = (str(row_values['title']) + ': ' + \n",
    "             str(row_values['desc'])).replace(\"'\", \"`\")\n",
    "    marker = folium.Marker(location = location, popup = popup)\n",
    "    marker.add_to(downtown_map)\n",
    "\n",
    "# Display the map.\n",
    "display(downtown_map)"
   ]
  },
  {
   "cell_type": "markdown",
   "metadata": {},
   "source": [
    "# Ch. 4 - Creating a choropleth building permit density in Nashville"
   ]
  },
  {
   "cell_type": "markdown",
   "metadata": {},
   "source": [
    "## Finding counts from a spatial join\n",
    "\n",
    "You will be using a dataset of the building permits issued in Nashville during 2017. This DataFrame called `permits` is in your workspace along with the `council_districts` GeoDataFrame.\n",
    "\n",
    "### Instructions\n",
    "* Create a Point geometry column in `permits` from `lat` and `lng`.\n",
    "* Create `permits_geo`, a GeoDataFrame, using `permits`, the `crs` from `council_districts`, and the `geometry` from `permits`.\n",
    "* Use a spatial join to find permits issued within each council district. Print the first 2 rows.\n",
    "* Create `permit_counts` to show the count of permits within each district, using `groupby()` and `.size()`. Print `permit_counts`."
   ]
  },
  {
   "cell_type": "code",
   "execution_count": null,
   "metadata": {},
   "outputs": [],
   "source": [
    "from shapely.geometry import Point\n",
    "\n",
    "# Create a shapely Point from lat and lng\n",
    "permits['geometry'] = permits.apply(lambda x: Point((float(x.lng) , float(x.lat))), axis = 1)\n",
    "\n",
    "# Build a GeoDataFrame: permits_geo\n",
    "permits_geo = gpd.GeoDataFrame(permits, crs = council_districts.crs, geometry = permits.geometry)\n",
    "\n",
    "# Spatial join of permits_geo and council_districts\n",
    "permits_by_district = gpd.sjoin(permits_geo, council_districts, op = 'within')\n",
    "print(permits_by_district.head(2))\n",
    "\n",
    "# Create permit_counts\n",
    "permit_counts = permits_by_district.groupby(['district']).size()\n",
    "print(permit_counts)"
   ]
  },
  {
   "cell_type": "markdown",
   "metadata": {},
   "source": [
    "## Council district areas and permit counts\n",
    "\n",
    "In order to create a normalized value for the building permits issued in each council district, you will need to find the area of each council district. Remember that you can leverage the area attribute of a GeoSeries to do this. You will need to convert `permit_counts` to a DataFrame so you can merge it with the `council_districts` data. Both `permit_counts` and `council_districts` are in your workspace.\n",
    "\n",
    "### Instructions\n",
    "\n",
    "#### Section 1\n",
    "* Get the area of each council district and store it in a new column, `area`, in the `council_districts` GeoDataFrame. Print the first two rows.\n",
    "\n",
    "#### Section 2\n",
    "* Next convert `permit_counts` to a DataFrame with the `.to_frame()` method, and print the first two rows.\n",
    "\n",
    "#### Section 3\n",
    "* Reset the index using the `inplace = True` argument and set the `columns` attribute to a list with the names `district` and `bldg_permits`. Print the first two rows again to see what `permits_df` looks like now.\n",
    "\n",
    "#### Section 4\n",
    "* Create a new GeoDataFrame called `districts_and_permits` by merging `council_districts` and `permits_df` on the `district` column. Take a look at the first two rows."
   ]
  },
  {
   "cell_type": "code",
   "execution_count": null,
   "metadata": {},
   "outputs": [],
   "source": [
    "# Section 1\n",
    "# Create an area column in council_districts\n",
    "council_districts['area'] = council_districts.geometry.area\n",
    "print(council_districts.head(2))\n",
    "\n",
    "# Section 2\n",
    "# Convert permit_counts to a DataFrame\n",
    "permits_df = permit_counts.to_frame()\n",
    "print(permits_df.head(2))\n",
    "\n",
    "# Section 3\n",
    "# Reset index and column names\n",
    "permits_df.reset_index(inplace=True)\n",
    "permits_df.columns = ['district', 'bldg_permits']\n",
    "print(permits_df.head(2))\n",
    "\n",
    "# Section 4\n",
    "# Merge council_districts and permits_df: \n",
    "districts_and_permits = pd.merge(council_districts, permits_df, on = 'district')\n",
    "print(districts_and_permits.head(2))"
   ]
  },
  {
   "cell_type": "markdown",
   "metadata": {},
   "source": [
    "## Calculating a normalized metric\n",
    "\n",
    "Now you are ready to divide the number of building permits issued for projects in each council district by the area of that district to get a normalized value for the permits issued. First you will verify that the `districts_and_permits` is still a GeoDataFrame.\n",
    "\n",
    "### Instructions\n",
    "* Print the `type()` of `districts_and_permits`.\n",
    "* Add one more column to `districts_and_permits`. Use a lambda expression and the pandas `apply()` method to divide the number of building permits issued for projects in each council district by the area of that district to get a normalized value for the permits issued.\n",
    "* Print the first five rows of `districts_and_permits`."
   ]
  },
  {
   "cell_type": "code",
   "execution_count": null,
   "metadata": {},
   "outputs": [],
   "source": [
    "# Print the type of districts_and_permits\n",
    "print(type(districts_and_permits))\n",
    "\n",
    "# Create permit_density column in districts_and_permits\n",
    "districts_and_permits['permit_density'] = districts_and_permits.apply(lambda row: row.bldg_permits / row.area, axis = 1)\n",
    "\n",
    "# Print the head of districts_and_permits\n",
    "print(districts_and_permits.head())"
   ]
  },
  {
   "cell_type": "markdown",
   "metadata": {},
   "source": [
    "## Geopandas choropleths\n",
    "\n",
    "First you will plot a choropleth of the building permit density for each council district using the default colormap. Then you will polish it by changing the colormap and adding labels and a title.\n",
    "\n",
    "### Instructions\n",
    "\n",
    "#### Section 1\n",
    "* Import `matplotlib.pyplot`, `pandas`, and `geopandas` with the customary aliases.\n",
    "\n",
    "#### Section 2\n",
    "* Plot `districts_and_permits`, using the `permit_density` column you just created and the default colormap. Be sure to call `plt.show()`.\n",
    "\n",
    "#### Section 3\n",
    "* Create a more polished choropleth of `permit_density`. Use the `BuGn` colormap, outline the polygons in black, create axis labels (`longitude` and `latitude`), and a `title('2017 Building Project Density by Council District')`. Show the plot.\n"
   ]
  },
  {
   "cell_type": "code",
   "execution_count": null,
   "metadata": {},
   "outputs": [],
   "source": [
    "# Import packages\n",
    "import matplotlib.pyplot as plt\n",
    "import pandas as pd\n",
    "import geopandas as gpd\n",
    "\n",
    "# Simple plot of building permit_density\n",
    "districts_and_permits.plot(column = 'permit_density', legend = True);\n",
    "plt.show();\n",
    "\n",
    "# Polished choropleth of building permit_density\n",
    "districts_and_permits.plot(column = 'permit_density', cmap = 'BuGn', edgecolor = 'black', legend = True)\n",
    "plt.xlabel('longitude')\n",
    "plt.ylabel('latitude')\n",
    "plt.xticks(rotation = 'vertical')\n",
    "plt.title('2017 Building Project Density by Council District')\n",
    "plt.show();"
   ]
  },
  {
   "cell_type": "markdown",
   "metadata": {},
   "source": [
    "## Area in km squared, geometry in decimal degrees\n",
    "\n",
    "In this exercise, you'll start again with the `council_districts` GeoDataFrame and the `permits` DataFrame. You will change the `council_districts` to use the EPSG 3857 coordinate reference system before creating a column for area. Once the area column has been created, you will change the CRS back to EPSG 4326 so that the geometry is in decimal degrees.\n",
    "\n",
    "### Instructions\n",
    "* Change the coordinate reference system for the `council_districts` to EPSG 3857, and print the `crs` and first two rows again.\n",
    "* Create a column called `area`. Divide the area of each polygon by `sqm_to_sqkm` to get the area in kilometers squared.\n",
    "* Change the coordinate reference system for the `council_districts` back to EPSG 4326. Print the `crs` and first two rows."
   ]
  },
  {
   "cell_type": "code",
   "execution_count": null,
   "metadata": {},
   "outputs": [],
   "source": [
    "# Change council_districts crs to epsg 3857\n",
    "council_districts = council_districts.to_crs(epsg = 3857)\n",
    "print(council_districts.crs)\n",
    "print(council_districts.head())\n",
    "\n",
    "# Create area in square km\n",
    "sqm_to_sqkm = 10**6\n",
    "council_districts['area'] = council_districts.geometry.area / sqm_to_sqkm\n",
    "\n",
    "# Change council_districts crs back to epsg 4326\n",
    "council_districts = council_districts.to_crs(epsg = 4326)\n",
    "print(council_districts.crs)\n",
    "print(council_districts.head())"
   ]
  },
  {
   "cell_type": "markdown",
   "metadata": {},
   "source": [
    "## Spatially joining and getting counts\n",
    "\n",
    "You will continue preparing your dataset for plotting a geopandas choropleth by creating a GeoDataFrame of the building permits spatially joined to the council districts. After that, you will be able to get counts of the building permits issued in each council district.\n",
    "\n",
    "### Instructions\n",
    "* Create `permits_geo` from `permits`, the `council_districts.crs`, and the geometry in permits.\n",
    "* Spatially join `permits_geo` and the `council_districts` to get building permits `within` each council district. Call this `permits_by_district`.\n",
    "* Count permits in each district, `permit_counts`, by chaining `groupby()` and `size()` methods.\n",
    "* Create `counts_df` from `permit_counts`. Reset the index, and name the columns `district` and `bldg_permits`."
   ]
  },
  {
   "cell_type": "code",
   "execution_count": null,
   "metadata": {},
   "outputs": [],
   "source": [
    "# Create permits_geo\n",
    "permits_geo = gpd.GeoDataFrame(permits, crs = council_districts.crs, geometry = permits.geometry)\n",
    "\n",
    "# Spatially join permits_geo and council_districts\n",
    "permits_by_district = gpd.sjoin(permits_geo, council_districts, op = 'within')\n",
    "print(permits_by_district.head(2))\n",
    "\n",
    "# Count permits in each district\n",
    "permit_counts = permits_by_district.groupby('district').size()\n",
    "\n",
    "# Convert permit_counts to a df with 2 columns: district and bldg_permits\n",
    "counts_df = permit_counts.to_frame()\n",
    "counts_df = counts_df.reset_index()\n",
    "counts_df.columns = ['district', 'bldg_permits']\n",
    "print(counts_df.head(2))"
   ]
  },
  {
   "cell_type": "markdown",
   "metadata": {},
   "source": [
    "## Building a polished Geopandas choropleth\n",
    "\n",
    "After merging the `counts_df` with `permits_by_district`, you will create a column with normalized `permit_density` by dividing the count of permits in each council district by the area of that council district. Then you will plot your final geopandas choropleth of the building projects in each council district.\n",
    "\n",
    "### Instructions\n",
    "* Merge `permits_by_district` and `counts_df` on `district` to create `districts_and_permits`.\n",
    "* Using `apply()` and a lambda expression, calculate a new column in `districts_and_permits` called `permit_density`. Divide counts by areas.\n",
    "* Plot a choropleth of the `districts_and_permits`, using `permit_density` with the `OrRd` colormap, and black outlines.\n",
    "* Add axis labels (`longitude` and `latitude`) and the title provided. Show your plot."
   ]
  },
  {
   "cell_type": "code",
   "execution_count": null,
   "metadata": {},
   "outputs": [],
   "source": [
    "# Merge permits_by_district and counts_df\n",
    "districts_and_permits = pd.merge(permits_by_district, counts_df, on = 'district')\n",
    "\n",
    "# Create permit_density column\n",
    "districts_and_permits['permit_density'] = districts_and_permits.apply(lambda row: row.bldg_permits / row.area, axis = 1)\n",
    "print(districts_and_permits.head(2))\n",
    "\n",
    "# Create choropleth plot\n",
    "districts_and_permits.plot(column = 'permit_density', cmap = 'OrRd', edgecolor = 'black', legend = True)\n",
    "\n",
    "# Add axis labels and title\n",
    "plt.xlabel('longitude')\n",
    "plt.ylabel('latitude')\n",
    "plt.title('2017 Building Project Density by Council District')\n",
    "plt.show()"
   ]
  },
  {
   "cell_type": "markdown",
   "metadata": {},
   "source": [
    "## Folium choropleth\n",
    "\n",
    "In this exercise, you will construct a folium choropleth to show the density of permitted construction projects in different Nashville council districts. You will be using a single data source, the `districts_and_permits` GeoDataFrame, which is in your workspace.\n",
    "\n",
    "### Instructions\n",
    "\n",
    "#### Section 1\n",
    "* Create a map object `m` using the `nashville` point for location and a `zoom_start` of 10.\n",
    "\n",
    "#### Section 2\n",
    "* Use `districts_and_permits`: `geometry` for polygons, `district` & `permit_density` to color. Use `Reds` and 0.5 opacity for the fill; Set `line_opacity` to 1.0.\n",
    "* Set key_on to `feature.properties.district`. Use the title provided.\n",
    "\n",
    "#### Section 3\n",
    "* Next create and add a folium `LayerControl()`. Display the map."
   ]
  },
  {
   "cell_type": "code",
   "execution_count": null,
   "metadata": {},
   "outputs": [],
   "source": [
    "# Center point for Nashville\n",
    "nashville = [36.1636,-86.7823]\n",
    "\n",
    "# Create map\n",
    "m = folium.Map(location=nashville, zoom_start=10)\n",
    "\n",
    "# Build choropleth\n",
    "m.choropleth(\n",
    "    geo_data=districts_and_permits,\n",
    "    name='geometry',\n",
    "    data=districts_and_permits,\n",
    "    columns=['district', 'permit_density'],\n",
    "    key_on='feature.properties.district',\n",
    "    fill_color='Reds',\n",
    "    fill_opacity=0.5,\n",
    "    line_opacity=1.0,\n",
    "    legend_name='2017 Permitted Building Projects per km squared'\n",
    ")\n",
    "\n",
    "# Create LayerControl and add it to the map            \n",
    "folium.LayerControl().add_to(m)\n",
    "\n",
    "# Display the map\n",
    "display(m)"
   ]
  },
  {
   "cell_type": "markdown",
   "metadata": {},
   "source": [
    "## Folium choropleth with markers and popups\n",
    "\n",
    "Now you will add a marker to the center of each council district that shows the district number along with the count of building permits issued in 2017 for that district. The map you created in the last exercise is in your workspace as `m`.\n",
    "\n",
    "After this exercise you will be nearly done with the course! If you enjoyed it, feel free to send Mary a thank you via Twitter -she'll appreciate it!\n",
    "\n",
    "### Instructions\n",
    "* Find the centroid for each council district and store it in a new column, `center` in the `districts_and_permits` GeoDataFrame.\n",
    "* Iterate through `districts_and_permits` and add a marker at each district's center. Remember to reverse the coordinate pair.\n",
    "* Create popups within your for loop to display the district number and the count of permits issued.\n",
    "* Add the markers to your map with `.add_to()` and display it."
   ]
  },
  {
   "cell_type": "code",
   "execution_count": null,
   "metadata": {},
   "outputs": [],
   "source": [
    "# Create center column for the centroid of each district\n",
    "districts_and_permits['center'] = districts_and_permits.centroid\n",
    "\n",
    "# Build markers and popups\n",
    "for row in districts_and_permits.iterrows():\n",
    "    row_values = row[1] \n",
    "    center_point = row_values['center']\n",
    "    location = [center_point.y, center_point.x]\n",
    "    popup = ('Council District: ' + str(row_values['district']) + \n",
    "             ';  ' + 'permits issued: ' + str(row_values['bldg_permits']))\n",
    "    marker = folium.Marker(location = location, popup = popup)\n",
    "    marker.add_to(m)\n",
    "    \n",
    "# Display the map\n",
    "display(m)"
   ]
  }
 ]
}