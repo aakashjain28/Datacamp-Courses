{
 "nbformat": 4,
 "nbformat_minor": 2,
 "metadata": {
  "language_info": {
   "name": "python",
   "codemirror_mode": {
    "name": "ipython",
    "version": 3
   }
  },
  "orig_nbformat": 2,
  "file_extension": ".py",
  "mimetype": "text/x-python",
  "name": "python",
  "npconvert_exporter": "python",
  "pygments_lexer": "ipython3",
  "version": 3
 },
 "cells": [
  {
   "cell_type": "markdown",
   "metadata": {},
   "source": [
    "# Ch. 1 - Highlighting data"
   ]
  },
  {
   "cell_type": "markdown",
   "metadata": {},
   "source": [
    "## Hardcoding a highlight\n",
    "\n",
    "You are working with the city of Houston to look at the relationship between sulfur dioxide (SO2) and nitrogen dioxide (NO2) pollution, specifically, pollution in the most recent year data was collected (2014). You have singled out a particularly bad day, November 26th, where there was a bad spike in the SO2 levels. To draw the viewers attention to this bad day, you will highlight it in a bright orangish-red and color the rest of the points gray.\n",
    "\n",
    "`pandas`, `matplotlib.pyplot`, and `seaborn` are loaded as `pd`, `plt`, and `sns`, respectively, and will be available in your workspace for the rest of the course.\n",
    "\n",
    "This course touches on a lot of concepts you may have forgotten, so if you ever need a quick refresher, download the Seaborn Cheat Sheet and keep it handy!\n",
    "\n",
    "### Instructions\n",
    "* Modify the list comprehension to color the value corresponding to the 330th day (November 26th) of the year 2014 to orangered and the rest of the points to lightgray.\n",
    "* Pass the `houston_colors` array to `regplot()` using the `scatter_kws` argument to color the points."
   ]
  },
  {
   "cell_type": "code",
   "execution_count": null,
   "metadata": {},
   "outputs": [],
   "source": [
    "houston_pollution = pollution[pollution.city  ==  'Houston']\n",
    "\n",
    "# Make array orangred for day 330 of year 2014, otherwise lightgray\n",
    "houston_colors = ['orangered' if (day  ==  330) & (year  ==  2014) else 'lightgray' \n",
    "                  for day,year in zip(houston_pollution.day, houston_pollution.year)]\n",
    "\n",
    "sns.regplot(x = 'NO2',\n",
    "            y = 'SO2',\n",
    "            data = houston_pollution,\n",
    "            fit_reg = False, \n",
    "            # Send scatterplot argument to color points \n",
    "            scatter_kws = {'facecolors': houston_colors, 'alpha': 0.7})\n",
    "plt.show()"
   ]
  },
  {
   "cell_type": "markdown",
   "metadata": {},
   "source": [
    "## Programmatically creating a highlight\n",
    "\n",
    "You are continuing your work for the city of Houston. Now you want to look at the behavior of both NO2 and SO2 when the un-plotted ozone (O3) value was at its highest.\n",
    "\n",
    "To do this, replace the logic in the current list comprehension with one that compares a row's O3 value with the highest observed O3 in the dataset. Note: use `sns.scatterplot()` instead of `sns.regplot()`. This is because `sns.scatterplot()` can take a non-color vector as its hue argument and colors the points automatically while providing a helpful legend.\n",
    "\n",
    "### Instructions\n",
    "* Find the value corresponding to the highest observed O3 value in the `houston_pollution` DataFrame. Make sure to type the letter O and not the number zero!\n",
    "* Append the column `'point_type'` to the `houston_pollution` DataFrame to mark if the row contains the highest observed O3.\n",
    "* Pass this newly created column to the `hue` argument of `sns.scatterplot()` to color the points.\n"
   ]
  },
  {
   "cell_type": "code",
   "execution_count": null,
   "metadata": {},
   "outputs": [],
   "source": [
    "houston_pollution = pollution[pollution.city  ==  'Houston'].copy()\n",
    "\n",
    "# Find the highest observed O3 value\n",
    "max_O3 = houston_pollution.O3.max()\n",
    "\n",
    "# Make a column that denotes which day had highest O3\n",
    "houston_pollution['point_type'] = ['Highest O3 Day' if O3  ==  max_O3 else 'Others' for O3 in houston_pollution.O3]\n",
    "\n",
    "# Encode the hue of the points with the O3 generated column\n",
    "sns.scatterplot(x = 'NO2',\n",
    "                y = 'SO2',\n",
    "                hue = 'point_type',\n",
    "                data = houston_pollution)\n",
    "plt.show()"
   ]
  },
  {
   "cell_type": "markdown",
   "metadata": {},
   "source": [
    "## Comparing with two KDEs\n",
    "\n",
    "Imagine that you work for the premier air-filter provider. Your company has asked you to build a report that looks into why 2012 was a particularly good year for sales of your ozone (O3) filter. You downloaded some helpful pollution data from the USGS, and you want to make a concise visualization that compares the general pattern of O3 pollution for 2012 to all other years on record.\n",
    "\n",
    "To do this, you can build two overlaid kernel density estimation plots (KDEs): one for 2012 O3 data and one for all other years.\n",
    "\n",
    "### Instructions\n",
    "* Filter the data in the first `sns.kdeplot()` call to include only the year 2012.\n",
    "* Shade under the first KDE with the `shade` argument.\n",
    "* Add the label '2012' for the plot legend.\n",
    "* Repeat the first three steps for second `sns.kdeplot()` call, but filter the data to not include 2012. Use the label `'other years'`.\n"
   ]
  },
  {
   "cell_type": "code",
   "execution_count": null,
   "metadata": {},
   "outputs": [],
   "source": [
    "# Filter dataset to the year 2012\n",
    "sns.kdeplot(pollution[pollution.year == 2012].O3, \n",
    "            # Shade under kde and add a helpful label\n",
    "            shade = True,\n",
    "            label = '2012')\n",
    "\n",
    "# Filter dataset to everything except the year 2012\n",
    "sns.kdeplot(pollution[pollution.year != 2012].O3, \n",
    "            # Again, shade under kde and add a helpful label\n",
    "            shade = True,\n",
    "            label = 'other years')\n",
    "plt.show()"
   ]
  },
  {
   "cell_type": "markdown",
   "metadata": {},
   "source": [
    "## Improving your KDEs\n",
    "\n",
    "One way of enhancing KDEs is with the addition of a rug plot. Rug plots are little dashes drawn beneath the density that show precisely where each data point falls. Adding a rug plot is particularly useful when you don't have a ton of data.\n",
    "\n",
    "With small amounts of data you often have gaps along your support with no data, and it can be hard to tell whether a non-zero KDE line means data was present or is due to a wide kernel. A rug plot helps address this.\n",
    "\n",
    "Let's return to the `sns.distplot()` function to draw two KDEs: one looking at the data for Vandenberg Air Force Base and the other looking at all the other cities in the pollution data. Since there is much less data contributing to the shape of the Vandenberg plot, add a rug plot beneath it.\n",
    "\n",
    "### Instructions\n",
    "* Turn off the histogram overlay for the first plot.\n",
    "* Make the Vandenberg plot `'steelblue'`.\n",
    "* Turn on rug plot functionality in the Vandenberg plot.\n",
    "* Remove `hist`"
   ]
  },
  {
   "cell_type": "code",
   "execution_count": null,
   "metadata": {},
   "outputs": [],
   "source": [
    "sns.distplot(pollution[pollution.city == 'Vandenberg Air Force Base'].O3, \n",
    "             label = 'Vandenberg', \n",
    "             # Turn off the histogram and color blue to stand out\n",
    "             hist = False,\n",
    "             color = 'steelblue', \n",
    "             # Turn on rugplot\n",
    "             rug = True)\n",
    "\n",
    "sns.distplot(pollution[pollution.city != 'Vandenberg Air Force Base'].O3, \n",
    "             label = 'Other cities',\n",
    "             # Turn off histogram and color gray\n",
    "             hist = False,  \n",
    "             color = 'gray')\n",
    "plt.show()"
   ]
  },
  {
   "cell_type": "markdown",
   "metadata": {},
   "source": [
    "## Beeswarms\n",
    "\n",
    "Build a beeswarm plot using `sns.swarmplot()` that looks at the Ozone levels for all the cities in the pollution data for the month of March. To make the beeswarm a bit more legible, decrease the point size to avoid the overcrowding caused by the many points drawn on the screen. Last, since you've done some manipulation of the data to make this plot, provide a title to help the reader orient with what they are viewing.\n",
    "\n",
    "### Instructions\n",
    "* Subset the pollution data to include just the observations in March.\n",
    "* Plot the O3 levels as the continuous value in the `swarmplot()`.\n",
    "* Decrease the point size to `3` to avoid crowding of the points.\n",
    "* Title the plot `'March Ozone levels by city'`.\n"
   ]
  },
  {
   "cell_type": "code",
   "execution_count": null,
   "metadata": {},
   "outputs": [],
   "source": [
    "# Filter data to just March\n",
    "pollution_mar = pollution[pollution.month == 3]\n",
    "\n",
    "# Plot beeswarm with x as O3\n",
    "sns.swarmplot(y = \"city\",\n",
    "              x = 'O3', \n",
    "              data = pollution_mar, \n",
    "              # Decrease the size of the points to avoid crowding \n",
    "              size = 3)\n",
    "\n",
    "# Give a descriptive title\n",
    "plt.title('March Ozone levels by city')\n",
    "plt.show()"
   ]
  },
  {
   "cell_type": "markdown",
   "metadata": {},
   "source": [
    "## A basic text annotation\n",
    "\n",
    "On the current scatter plot, you can see a particularly prominent point that contains the largest SO2 value observed for August. This point is Cincinnati on August 11th, 2013; however, you would not be able to learn this information from the plot in its current form. Basic text annotations are great for pointing out interesting outliers and giving a bit more information. Draw the readers attention to this Cincinnati value by adding a basic text annotation that gives a bit of the background about this outlier.\n",
    "\n",
    "### Instructions\n",
    "* Filter the data plotted in scatter plot to just August.\n",
    "* Draw text annotation at `x = 0.57` and `y = 41` to call out the highest SO2 value.\n",
    "* Label annotation with `'Cincinnati had highest observed\\nSO2 value on Aug 11, 2013'` (note the line break).\n",
    "* Change the `font-size` to `'large'` for the annotation."
   ]
  },
  {
   "cell_type": "code",
   "execution_count": null,
   "metadata": {},
   "outputs": [],
   "source": [
    "# Draw basic scatter plot of pollution data for August\n",
    "sns.scatterplot(x = 'CO', y = 'SO2', data = pollution[pollution.month  ==  8])\n",
    "\n",
    "# Label highest SO2 value with text annotation\n",
    "plt.text(0.57, 41,\n",
    "         'Cincinnati had highest observed\\nSO2 value on Aug 11, 2013', \n",
    "         # Set the font to large\n",
    "         fontdict = {'ha': 'left', 'size': 'large'})\n",
    "plt.show()"
   ]
  },
  {
   "cell_type": "markdown",
   "metadata": {},
   "source": [
    "## Arrow annotations\n",
    "\n",
    "Imagine you are a city planner for Long Beach, California. Long Beach is located on the Pacific Ocean and has a large firework show every New Year's Eve. You want to look into whether this show negatively impacts the air quality of the city. To do this, you will look at CO and NO2 levels on New Year's Day. However, it turns out that New Year's Day is not one of the outliers in the plot on the right, it's located in one of the more crowded areas.\n",
    "\n",
    "To help guide the reader to this point, you'll use an annotation along with an arrow that points to the New Year's Day value. This will provide a nice annotation that explains what the viewer is looking while printing the text in a less crowded region of the plot.\n",
    "\n",
    "### Instructions\n",
    "* Grab the row from `jan_pollution` that corresponds to New Year's Day 2012 in the city of Long Beach using the pandas' `.query()` method.\n",
    "* Set the endpoint of the arrow `(xy)` by using the CO and NO2 column values from the `lb_newyears` DataFrame.\n",
    "* Use the argument `xytext` to place the annotation arrow's text in the bottom left corner of the display at `x = 2`, `y = 15`.\n",
    "* `'shrink'` the arrow to `0.03`, so it doesn't occlude the point of interest.\n"
   ]
  },
  {
   "cell_type": "code",
   "execution_count": null,
   "metadata": {},
   "outputs": [],
   "source": [
    "# Query and filter to New Years in Long Beach\n",
    "jan_pollution = pollution.query(\"(month  ==  1) & (year  ==  2012)\")\n",
    "lb_newyears = jan_pollution.query(\"(day  ==  1) & (city  ==  'Long Beach')\")\n",
    "\n",
    "sns.scatterplot(x = 'CO', y = 'NO2',\n",
    "                data = jan_pollution)\n",
    "\n",
    "# Point arrow to lb_newyears & place text in lower left \n",
    "plt.annotate('Long Beach New Years',\n",
    "             xy = (lb_newyears.CO, lb_newyears.NO2),\n",
    "             xytext = (2, 15), \n",
    "             # Shrink the arrow to avoid occlusion\n",
    "             arrowprops = {'facecolor':'gray', 'width': 3, 'shrink': 0.03},\n",
    "             backgroundcolor = 'white')\n",
    "plt.show()"
   ]
  },
  {
   "cell_type": "markdown",
   "metadata": {},
   "source": [
    "## Combining annotations and color\n",
    "\n",
    "You believe that Long Beach, California has a smog problem. Using the pollution data, you'll attempt to make a point for increasing smog reduction regulations using your data visualization wizardry. Specifically, you want to focus on the relationship of CO to O3 levels during 2014 at a city council meeting.\n",
    "\n",
    "To emphasize how Long Beach compares to a set of peer cities, you've decided to highlight Long Beach and draw attention to a particularly bad day where the CO level was 1.6 and O3 was 0.072 using an annotation.\n",
    "\n",
    "### Instructions\n",
    "\n",
    "#### Section 1\n",
    "* Using a list comprehension, make a vector of colors for each point with `'orangered'` if the point belongs to Long Beach, and `'lightgray'` if it doesn't.\n",
    "\n",
    "#### Section 2\n",
    "* Use the `is_lb` vector to provide custom colors for each point using the additional keyword argument `facecolors` in the `scatter_kws` argument.\n",
    "* In the same `scatter_kws` dictionary, set the `opacity` to `0.3`.\n",
    "\n",
    "#### Section 3\n",
    "* Add an annotation at `x = 1.6` and `y = 0.072` using the text `'April 30th, Bad Day'` to draw attention to a specific point in the data.\n",
    "\n"
   ]
  },
  {
   "cell_type": "code",
   "execution_count": null,
   "metadata": {},
   "outputs": [],
   "source": [
    "# Make a vector where Long Beach is orangered; else lightgray\n",
    "is_lb = ['orangered' if city  ==  'Long Beach' else 'lightgray' for city in pollution['city']]\n",
    "\n",
    "# Map facecolors to the list is_lb and set alpha to 0.3\n",
    "sns.regplot(x = 'CO',\n",
    "            y = 'O3',\n",
    "            data = pollution,\n",
    "            fit_reg = False,\n",
    "            scatter_kws = {'facecolors':is_lb, 'alpha': 0.3})\n",
    "\n",
    "# Add annotation to plot\n",
    "plt.text(1.6, 0.072, 'April 30th, Bad Day')\n",
    "plt.show()"
   ]
  },
  {
   "cell_type": "markdown",
   "metadata": {},
   "source": [
    "## Ch. 2 - Using color in visualizations"
   ]
  },
  {
   "cell_type": "markdown",
   "metadata": {},
   "source": [
    "## Getting rid of unnecessary color\n",
    "\n",
    "You might want to compare the relationship CO to NO2 values across cities using a simple scatter plot with color to differentiate the different cities' data.\n",
    "\n",
    "![Scatter plot of CO and NO2 with lots of overlapping plots](https://assets.datacamp.com/production/repositories/3841/datasets/3d05d15adfc2f44884a5abd866bc2fa67fc0cb05/messy_colored_scatter.png)\n",
    "\n",
    "Unfortunately, the resulting plot is very convoluted. It's hard to make out differences between the cities because one has to differentiate between similar colors. It turns out that sometimes the best color palette for your plot is no color at all.\n",
    "\n",
    "To remedy this hard-to-read chart, get rid of the color component and facet by each city. While the resulting plot may not be as pretty, it will be a much better tool to decipher the differences.\n",
    "\n",
    "### Instructions\n",
    "* To set up a chart faceted by the city, pass the plotting function the pollution data, map the city to the columns, and make the facet three columns wide.\n",
    "* Use the `g.map()` function to map a `scatterplot()` over our grid with the same aesthetic as the original scatter but without the `hue` argument.\n"
   ]
  },
  {
   "cell_type": "code",
   "execution_count": null,
   "metadata": {},
   "outputs": [],
   "source": [
    "# Hard to read scatter of CO and NO2 w/ color mapped to city\n",
    "# sns.scatterplot('CO', 'NO2',\n",
    "#                 alpha = 0.2,\n",
    "#                 hue = 'city',\n",
    "#                 data = pollution)\n",
    "\n",
    "# Setup a facet grid to separate the cities apart\n",
    "g = sns.FacetGrid(data = pollution,\n",
    "                  col = 'city',\n",
    "                  col_wrap = 3)\n",
    "\n",
    "# Map sns.scatterplot to create separate city scatter plots\n",
    "g.map(sns.scatterplot, 'CO', 'NO2', alpha = 0.2)\n",
    "plt.show()"
   ]
  },
  {
   "cell_type": "markdown",
   "metadata": {},
   "source": [
    "## Fixing Seaborn's bar charts\n",
    "\n",
    "Seaborn's default values for the colors of bars in a bar chart are not ideal for the most accurate perception. By drawing each bar as a different color, there is a risk of the viewer seeing two identical sized bars as different sizes as people tend to see some colors as 'larger' than others.\n",
    "\n",
    "![Basic rainbow colored bar plot](https://assets.datacamp.com/production/repositories/3841/datasets/623d266d2194ed81a37d15b895cbd3641f6f5d38/bars_no_border.png)\n",
    "\n",
    "We discussed two easy ways to fix this. First, to put a border around the bars; second, change all bar colors to the same value. Try both of these solutions on our pollution data.\n",
    "\n",
    "### Instructions\n",
    "* Modify the default barplot by adding a black border around each bar.\n",
    "* Now, make your plot more perceptually precise by coloring all bars `'cadetblue'`."
   ]
  },
  {
   "cell_type": "code",
   "execution_count": null,
   "metadata": {},
   "outputs": [],
   "source": [
    "import numpy as np\n",
    "\n",
    "sns.barplot(y = 'city', x = 'CO', \n",
    "              estimator = np.mean,\n",
    "            ci = False,\n",
    "              data = pollution,\n",
    "              # Add a border to the bars\n",
    "            edgecolor = 'black',\n",
    "            color = 'cadetblue')\n",
    "plt.show()"
   ]
  },
  {
   "cell_type": "markdown",
   "metadata": {},
   "source": [
    "## Making a custom continuous palette\n",
    "\n",
    "You are interested in the pollution levels of Cincinnati for the year 2014. Specifically, you're interested in CO and NO2, so you make a simple scatter plot to show the relationship between the two pollutants.\n",
    "\n",
    "![Scatterplot of CO and NO2 with uncolored points](https://assets.datacamp.com/production/repositories/3841/datasets/38b3a61c19aec974f73ddb0dc06fdc4a2805857a/basic_no_color_scatter.png)\n",
    "\n",
    "However, there may be some interesting information in how the value of O3 relates to the two plotted pollutants, so you decide to color the points by their O3 levels. To do this, you need to define an appropriate continuous palette and map your O3 column to it in your scatter plot.\n",
    "\n",
    "### Instructions\n",
    "* Create a palette that continuously maps from white to `'orangered'`.\n",
    "* Map the column for O3 values to the color of the points.\n",
    "* Pass your created palette to the plotting function."
   ]
  },
  {
   "cell_type": "code",
   "execution_count": null,
   "metadata": {},
   "outputs": [],
   "source": [
    "# Filter the data\n",
    "cinci_2014 = pollution.query(\"city  ==  'Cincinnati' & year  ==  2014\")\n",
    "\n",
    "# Define a custom continuous color palette\n",
    "color_palette = sns.light_palette('orangered',\n",
    "                         as_cmap = True)\n",
    "\n",
    "# Plot mapping the color of the points with custom palette\n",
    "sns.scatterplot(x = 'CO',\n",
    "                y = 'NO2',\n",
    "                hue = 'O3', \n",
    "                data = cinci_2014,\n",
    "                palette = color_palette)\n",
    "plt.show()"
   ]
  },
  {
   "cell_type": "markdown",
   "metadata": {},
   "source": [
    "## Customizing a diverging palette heatmap\n",
    "\n",
    "The default color scheme used by Seaborn's `heatmap()` doesn't give the value of 0 any special treatment. This is fine for instances when 0 isn't special for the variable you're visualizing but means you will need to customize the palette when 0 is special, such as when it represents a neutral value.\n",
    "\n",
    "For this visualization, you want to compare all the cities against the average pollution value for CO in November 2015. (As is provided in the DataFrame `nov_2015_CO`).\n",
    "\n",
    "To do this, use a heat map to encode the number of standard deviations away from the average each city's CO pollution was for the day. You'll need to replace the default palette by creating your own custom diverging palette and passing it to the heatmap and informing the function what your neutral value is.\n",
    "\n",
    "### Instructions\n",
    "* Pass the diverging palette to your plot.\n",
    "    * Note that the `sns.heatmap()` function in Seaborn does not have a palette argument but instead requires the `cmap` argument.\n",
    "* Add your neutral value to the heat map by specifying the center argument.\n",
    "* Set the upper and lower boundaries to the color bar to `-4` and `4` to make the legend symmetric.\n"
   ]
  },
  {
   "cell_type": "code",
   "execution_count": null,
   "metadata": {},
   "outputs": [],
   "source": [
    "# Define a custom palette\n",
    "color_palette = sns.diverging_palette(250, 0, as_cmap = True)\n",
    "\n",
    "# Pass palette to plot and set axis ranges\n",
    "sns.heatmap(nov_2015_CO,\n",
    "            cmap = color_palette,\n",
    "            center = 0,\n",
    "            vmin = -4,\n",
    "            vmax = 4)\n",
    "plt.yticks(rotation = 0)\n",
    "plt.show()"
   ]
  },
  {
   "cell_type": "markdown",
   "metadata": {},
   "source": [
    "## Adjusting your palette according to context\n",
    "\n",
    "You've been asked to make a figure for your company's website. The website has a slick black theme, and it would be pretty jarring if your plot were white. To make your plot match the company aesthetic, you can swap the background to a black one with `plt.style.use(\"dark_background\")`.\n",
    "\n",
    "The figure you've been asked to make plots O3 values during October 2015 for various cities (provided as `oct_2015_o3`). You will plot this as a heatmap with the color of each cell encoding how many standard deviations from the overall average O3 value the measurement falls. Due to the website's dark background, you will want to adjust your color palette to encode null value (or 0 standard deviations from the mean) as dark rather than the default white.\n",
    "\n",
    "### Instructions\n",
    "* Set the theme of the plot to be dark with `plt.style.use()`.\n",
    "    * You can see the available themes for `plt.style.use()` by running the line `plt.style.available`; look for the one that will make your background dark.\n",
    "* Modify the custom palette to be `'dark'` for the center value instead of the default white."
   ]
  },
  {
   "cell_type": "code",
   "execution_count": null,
   "metadata": {},
   "outputs": [],
   "source": [
    "# Dark plot background\n",
    "plt.style.use(\"dark_background\")\n",
    "\n",
    "# Modify palette for dark background\n",
    "color_palette = sns.diverging_palette(250, 0,\n",
    "                                      center = 'dark',\n",
    "                                      as_cmap = True)\n",
    "\n",
    "# Pass palette to plot and set center\n",
    "sns.heatmap(oct_2015_o3,\n",
    "            cmap = color_palette,\n",
    "            center = 0)\n",
    "plt.yticks(rotation = 0)\n",
    "plt.show()"
   ]
  },
  {
   "cell_type": "markdown",
   "metadata": {},
   "source": [
    "## Using a custom categorical palette\n",
    "\n",
    "When you have a line chart with lots of categories choosing your palette carefully is essential. Often default palettes have very similar hues, that are hard to differentiate when spread over the small surface of a line. ColorBrewer palettes are built with this in mind and keep the colors as distinct as possible.\n",
    "\n",
    "In this exercise, you will make a line plot of the O3 values over the year of 2013 for all the cities where the color of each line is encoded by city. You will use the ColorBrewer palette `'Set2'` to improve upon the default color scheme.\n",
    "\n",
    "### Instructions\n",
    "* Query data to January of 2013.\n",
    "* Encode the color of the lines as the city.\n",
    "* Change the palette to the `'Set2'` ColorBrewer palette."
   ]
  },
  {
   "cell_type": "code",
   "execution_count": null,
   "metadata": {},
   "outputs": [],
   "source": [
    "# Filter our data to Jan 2013\n",
    "pollution_jan13 = pollution.query('year  ==  2013 & month  ==  1')\n",
    "\n",
    "# Color lines by the city and use custom ColorBrewer palette\n",
    "sns.lineplot(x = \"day\", \n",
    "             y = \"CO\", \n",
    "             hue = \"city\",\n",
    "             palette = \"Set2\", \n",
    "             linewidth = 3,\n",
    "             data = pollution_jan13)\n",
    "plt.show()"
   ]
  },
  {
   "cell_type": "markdown",
   "metadata": {},
   "source": [
    "## Dealing with too many categories\n",
    "\n",
    "Sometimes you may be short on figure space and need to show a lot of data at once. Here you want to show the year-long trajectory of every pollutant for every city in the pollution dataset. Each pollutant trajectory will be plotted as a line with the y-value corresponding to standard deviations from year's average. This means you will have a lot of lines on your plot at once -- way more than you could separate clearly with color.\n",
    "\n",
    "To deal with this, you have decided to highlight on a small subset of city pollutant combinations (`wanted_combos`). This subset is the most important to you, and the other trajectories will provide valuable context for comparison. To focus attention, you will set all the non-highlighted trajectories lines to of the same `'other'` color.\n",
    "\n",
    "### Instructions\n",
    "* Modify the list comprehension to isolate the desired combinations of city and pollutant (`wanted_combos`).\n",
    "* Tell the line plot to color the lines by the newly created `color_cats` column in your DataFrame.\n",
    "* Use the units argument to determine how, i.e., from which column, the data points should be connected to form each line.\n",
    "* Disable the binning of points with the `estimator` argument."
   ]
  },
  {
   "cell_type": "code",
   "execution_count": null,
   "metadata": {},
   "outputs": [],
   "source": [
    "# Choose the combos that get distinct colors\n",
    "wanted_combos = ['Vandenberg Air Force Base NO2', 'Long Beach CO', 'Cincinnati SO2']\n",
    "\n",
    "# Assign a new column to DataFrame for isolating the desired combos\n",
    "city_pol_month['color_cats'] = [x if x in wanted_combos else 'other' for x in city_pol_month['city_pol']]\n",
    "\n",
    "# Plot lines with color driven by new column and lines driven by original categories\n",
    "sns.lineplot(x = \"month\",\n",
    "             y = \"value\",\n",
    "             hue = 'color_cats',\n",
    "             units = 'city_pol',\n",
    "             estimator = None,\n",
    "             palette = 'Set2',\n",
    "             data = city_pol_month)\n",
    "plt.show()"
   ]
  },
  {
   "cell_type": "markdown",
   "metadata": {},
   "source": [
    "## Coloring ordinal categories\n",
    "\n",
    "You are working for the Des Moines city council to assess the associations of various pollutant levels in the city. The two most important pollutants are SO2 and NO2 but CO is also of interest. You've only been allowed enough space for a single plot for your part of the report.\n",
    "\n",
    "You start with a scatter plot of the SO2 and NO2 values as they are most important and then decide to show the CO values using a color scale corresponding to CO quartiles. By binning the continuous CO values, you have turned CO into an ordinal variable that can illuminate broad patterns without requiring much effort from the viewer to compare subtly different shades.\n",
    "\n",
    "### Instructions\n",
    "* Set the `qcut()` function to break `'CO'` into quartiles.\n",
    "* Map the color of your scatter plot to the new quartile column.\n",
    "* Change the palette to the ColorBrewer palette `'GnBu'`.\n"
   ]
  },
  {
   "cell_type": "code",
   "execution_count": null,
   "metadata": {},
   "outputs": [],
   "source": [
    "# Divide CO into quartiles\n",
    "pollution['CO quartile'] = pd.qcut(pollution['CO'], q = 4, labels = False)\n",
    "\n",
    "# Filter to just Des Moines\n",
    "des_moines = pollution.query(\"city == 'Des Moines'\")\n",
    "\n",
    "# Color points with by quartile and use ColorBrewer palette\n",
    "sns.scatterplot(x = 'SO2',\n",
    "                y = 'NO2',\n",
    "                hue = 'CO quartile', \n",
    "                data = des_moines,\n",
    "                palette = 'GnBu')\n",
    "plt.show()"
   ]
  },
  {
   "cell_type": "markdown",
   "metadata": {},
   "source": [
    "## Choosing the right variable to encode with color\n",
    "\n",
    "You're tasked with visualizing pollution values for Long Beach and nearby cities over time. The supplied code makes the below (hard-to-read plot), which consists of maximum pollution values (provided as `max_pollutant_values`) with the bars colored by the city.\n",
    "\n",
    "![Mutlicolor and busy bar plots with four rows corresponding to the four pollutants in dataset](https://assets.datacamp.com/production/repositories/3841/datasets/bfdc5024f8b0dba94ef0302824d88affed8180b7/exercise_swap_color_encoding.png)\n",
    "\n",
    "You can quickly improve this with a few tweaks. By modifying the cities shown to only those in the western half of the country you will avoid clutter. Next, swapping the color-encoding from city to year allows you to use an ordinal palette, saving the reader from continually referring to the legend to check which color corresponds to which city.\n",
    "\n",
    "### Instructions\n",
    "* Remove `'Indianapolis'`, `'Des Moines'`, `'Cincinnati'`, `'Houston'` from the `cities` vector.\n",
    "* Swap the encodings of the `city` and `year` variables.\n",
    "* Use the `'BuGn'` ColorBrewer palette to map your colors appropriately for the newly ordinal variable."
   ]
  },
  {
   "cell_type": "code",
   "execution_count": null,
   "metadata": {},
   "outputs": [],
   "source": [
    "# Reduce to just cities in the western half of US\n",
    "cities = ['Fairbanks', 'Long Beach', 'Vandenberg Air Force Base', 'Denver']\n",
    "\n",
    "# Filter data to desired cities\n",
    "city_maxes = max_pollutant_values[max_pollutant_values.city.isin(cities)]\n",
    "\n",
    "# Swap city and year encodings\n",
    "sns.catplot(x = 'city', hue = 'year',\n",
    "              y = 'value', row = 'pollutant',    \n",
    "              # Change palette to one appropriate for ordinal categories\n",
    "              data = city_maxes, palette = 'BuGn',\n",
    "              sharey = False, kind = 'bar')\n",
    "plt.show()"
   ]
  },
  {
   "cell_type": "markdown",
   "metadata": {},
   "source": [
    "# Ch. 3 - Showing uncertainty"
   ]
  },
  {
   "cell_type": "markdown",
   "metadata": {},
   "source": [
    "## Basic confidence intervals\n",
    "\n",
    "You are a data scientist for a fireworks manufacturer in Des Moines, Iowa. You need to make a case to the city that your company's large fireworks show has not caused any harm to the city's air. To do this, you look at the average levels for pollutants in the week after the fourth of July and how they compare to readings taken after your last show. By showing confidence intervals around the averages, you can make a case that the recent readings were well within the normal range.\n",
    "\n",
    "This data is loaded as `average_ests` with a row for each measured pollutant.\n",
    "\n",
    "### Instructions\n",
    "* Create the lower and upper 95% interval boundaries:\n",
    "    * Create the lower boundary by subtracting 1.96 standard errors (`'std_err'`) from the `'mean'` of `estimates`.\n",
    "    * Create the upper boundary by adding 1.96 standard errors (`'std_err'`) to the `'mean'` of estimates.\n",
    "* Pass `pollutant` as the faceting variable to `sns.FacetGrid()` and unlink the x-axes of the plots so intervals are all well-sized.\n",
    "* Pass the constructed interval boundaries to the mapped `plt.hlines()` function.\n"
   ]
  },
  {
   "cell_type": "code",
   "execution_count": null,
   "metadata": {},
   "outputs": [],
   "source": [
    "# Construct CI bounds for averages\n",
    "average_ests['lower'] = average_ests['mean'] - 1.96*average_ests['std_err']\n",
    "average_ests['upper'] = average_ests['mean'] + 1.96*average_ests['std_err']\n",
    "\n",
    "# Setup a grid of plots, with non-shared x axes limits\n",
    "g = sns.FacetGrid(average_ests, row = 'pollutant', sharex = False)\n",
    "\n",
    "# Plot CI for average estimate\n",
    "g.map(plt.hlines, 'y', 'lower', 'upper')\n",
    "\n",
    "# Plot observed values for comparison and remove axes labels\n",
    "g.map(plt.scatter, 'seen', 'y', color = 'orangered').set_ylabels('').set_xlabels('') \n",
    "\n",
    "plt.show()"
   ]
  },
  {
   "cell_type": "markdown",
   "metadata": {},
   "source": [
    "## Annotating confidence intervals\n",
    "\n",
    "Your data science work with pollution data is legendary, and you are now weighing job offers in both Cincinnati, Ohio and Indianapolis, Indiana. You want to see if the SO2 levels are significantly different in the two cities, and more specifically, which city has lower levels. To test this, you decide to look at the differences in the cities' SO2 values (Indianapolis' - Cincinnati's) over multiple years (provided as `diffs_by_year`).\n",
    "\n",
    "Instead of just displaying a p-value for a significant difference between the cities, you decide to look at the 95% confidence intervals (columns lower and upper) of the differences. This allows you to see the magnitude of the differences along with any trends over the years.\n",
    "\n",
    "### Instructions\n",
    "* Provide starting and ending limits (columns `lower` and `upper`) for your confidence intervals to `plt.hlines()`.\n",
    "* Set interval thickness to `5`.\n",
    "* Draw a vertical line representing a difference of `0` with `plt.axvline()`.\n",
    "* Color the null line `'orangered'` to make it stand out.\n"
   ]
  },
  {
   "cell_type": "code",
   "execution_count": null,
   "metadata": {},
   "outputs": [],
   "source": [
    "# Set start and ends according to intervals \n",
    "# Make intervals thicker\n",
    "plt.hlines(y = 'year', xmin = 'lower', xmax = 'upper', \n",
    "           linewidth = 5, color = 'steelblue', alpha = 0.7,\n",
    "           data = diffs_by_year)\n",
    "# Point estimates\n",
    "plt.plot('mean', 'year', 'k|', data = diffs_by_year)\n",
    "\n",
    "# Add a 'null' reference line at 0 and color orangered\n",
    "plt.axvline(x = 0, color = 'orangered', linestyle = '--')\n",
    "\n",
    "# Set descriptive axis labels and title\n",
    "plt.xlabel('95% CI')\n",
    "plt.title('Avg SO2 differences between Cincinnati and Indianapolis')\n",
    "plt.show()"
   ]
  },
  {
   "cell_type": "markdown",
   "metadata": {},
   "source": [
    "## Making a confidence band\n",
    "\n",
    "Vandenberg Air Force Base is often used as a location to launch rockets into space. You have a theory that a recent increase in the pace of rocket launches could be harming the air quality in the surrounding region. To explore this, you plotted a 25-day rolling average line of the measurements of atmospheric NO2. To help decide if any pattern observed is random-noise or not, you decide to add a 99% confidence band around your rolling mean. Adding a confidence band to a trend line can help shed light on the stability of the trend seen. This can either increase or decrease the confidence in the discovered trend.\n",
    "\n",
    "### Instructions\n",
    "* Construct upper and lower 99% interval bands by adding and subtracting 2.58 standard errors from the mean.\n",
    "* Make the point-estimate line white.\n",
    "* Make the point-estimate line semi-transparent by setting `alpha` to `0.4`.\n",
    "* Tell `plt.fill_between()` what values to fill between for each day.\n"
   ]
  },
  {
   "cell_type": "code",
   "execution_count": null,
   "metadata": {},
   "outputs": [],
   "source": [
    "# Draw 99% inverval bands for average NO2\n",
    "vandenberg_NO2['lower'] = vandenberg_NO2['mean'] - 2.58 * vandenberg_NO2['std_err']\n",
    "vandenberg_NO2['upper'] = vandenberg_NO2['mean'] + 2.58 * vandenberg_NO2['std_err']\n",
    "\n",
    "# Plot mean estimate as a white semi-transparent line\n",
    "plt.plot('day', 'mean', data = vandenberg_NO2,\n",
    "         color = 'white', alpha = 0.4)\n",
    "\n",
    "# Fill between the upper and lower confidence band values\n",
    "plt.fill_between(x = 'day', \n",
    "                 y1 = 'lower', y2 = 'upper', \n",
    "                 data = vandenberg_NO2)\n",
    "\n",
    "plt.show()"
   ]
  },
  {
   "cell_type": "markdown",
   "metadata": {},
   "source": [
    "## Separating a lot of bands\n",
    "\n",
    "It is relatively simple to plot a bunch of trend lines on top of each other for rapid and precise comparisons. Unfortunately, if you need to add uncertainty bands around those lines, the plot becomes very difficult to read. Figuring out whether a line corresponds to the top of one class' band or the bottom of another's can be hard due to band overlap. Luckily in Seaborn, it's not difficult to break up the overlapping bands into separate faceted plots.\n",
    "\n",
    "To see this, explore trends in SO2 levels for a few cities in the eastern half of the US. If you plot the trends and their confidence bands on a single plot - it's a mess. To fix, use Seaborn's `FacetGrid()` function to spread out the confidence intervals to multiple panes to ease your inspection.\n",
    "\n",
    "### Instructions\n",
    "* Set up a facet grid to separate the plots by the `city` column in `eastern_SO2`.\n",
    "* Send the confidence interval plotting function to `map()`.\n",
    "* Color the confidence intervals `'coral'`.\n",
    "* Help the overlaid mean line drawn with `g.map(plt.plot,...)` stand out against the confidence bands by coloring it white.\n"
   ]
  },
  {
   "cell_type": "code",
   "execution_count": null,
   "metadata": {},
   "outputs": [],
   "source": [
    "# Setup a grid of plots with columns divided by location\n",
    "g = sns.FacetGrid(eastern_SO2, col = 'city', col_wrap = 2)\n",
    "\n",
    "# Map interval plots to each cities data with corol colored ribbons\n",
    "g.map(plt.fill_between, 'day', 'lower', 'upper', color = 'coral')\n",
    "\n",
    "# Map overlaid mean plots with white line\n",
    "g.map(plt.plot, 'day', 'mean', color = 'white')\n",
    "\n",
    "plt.show()"
   ]
  },
  {
   "cell_type": "markdown",
   "metadata": {},
   "source": [
    "## Cleaning up bands for overlaps\n",
    "\n",
    "You are working for the city of Denver, Colorado and want to run an ad campaign about how much cleaner Denver's air is than Long Beach, California's air. To investigate this claim, you will compare the SO2 levels of both cities for the year 2014 (provided as the DataFrame `SO2_compare`). Since you are solely interested in how the cities compare, you want to keep the bands on the same plot. To make the bands easier to compare, decrease the opacity of the confidence bands and set a clear legend.\n",
    "\n",
    "### Instructions\n",
    "* Filter the `SO2_compare` to the for loop's currently selected city.\n",
    "* Color both the intervals and mean lines with the color accompanying each city.\n",
    "* Lower the interval and mean line opacities to 0.4 and 0.25, respectively.\n",
    "* Override the default legend labels in `plt.plot()` by setting the label argument to the city name.\n"
   ]
  },
  {
   "cell_type": "code",
   "execution_count": null,
   "metadata": {},
   "outputs": [],
   "source": [
    "for city, color in [('Denver',\"#66c2a5\"), ('Long Beach', \"#fc8d62\")]:\n",
    "    # Filter data to desired city\n",
    "    city_data = SO2_compare[SO2_compare.city  ==  city]\n",
    "\n",
    "    # Set city interval color to desired and lower opacity\n",
    "    plt.fill_between(x = 'day', y1 = 'lower', y2 = 'upper', data = city_data,\n",
    "                     color = color, alpha = 0.4)\n",
    "    \n",
    "    # Draw a faint mean line for reference and give a label for legend\n",
    "    plt.plot('day','mean', data = city_data, label = city,\n",
    "             color = color, alpha = 0.25)\n",
    "\n",
    "plt.legend()\n",
    "plt.show()"
   ]
  },
  {
   "cell_type": "markdown",
   "metadata": {},
   "source": [
    "## 90, 95, and 99% intervals\n",
    "\n",
    "You are a data scientist for an outdoor adventure company in Fairbanks, Alaska. Recently, customers have been having issues with SO2 pollution, leading to costly cancellations. The company has sensors for CO, NO2, and O3 but not SO2 levels.\n",
    "\n",
    "You've built a model that predicts SO2 values based on the values of pollutants with sensors (loaded as `pollution_model`, a `statsmodels` object). You want to investigate which pollutant's value has the largest effect on your model's SO2 prediction. This will help you know which pollutant's values to pay most attention to when planning outdoor tours. To maximize the amount of information in your report, show multiple levels of uncertainty for the model estimates.\n",
    "\n",
    "### Instructions\n",
    "* Fill in the appropriate interval width percents (from 90,95, and 99%) according to the `values` list in `alpha`.\n",
    "* In the for loop, color the interval by its assigned `color`.\n",
    "* Pass the loop's `width` percentage value to `plt.hlines()` to label the legend.\n"
   ]
  },
  {
   "cell_type": "code",
   "execution_count": null,
   "metadata": {},
   "outputs": [],
   "source": [
    "# Add interval percent widths\n",
    "alphas = [     0.01,  0.05,   0.1] \n",
    "widths = [ '99% CI', '95%', '90%']\n",
    "colors = ['#fee08b','#fc8d59','#d53e4f']\n",
    "\n",
    "for alpha, color, width in zip(alphas, colors, widths):\n",
    "    # Grab confidence interval\n",
    "    conf_ints = pollution_model.conf_int(alpha)\n",
    "    \n",
    "    # Pass current interval color and legend label to plot\n",
    "    plt.hlines(y = conf_ints.index, xmin = conf_ints[0], xmax = conf_ints[1],\n",
    "               colors = colors, label = width, linewidth = 10) \n",
    "\n",
    "# Draw point estimates\n",
    "plt.plot(pollution_model.params, pollution_model.params.index, 'wo', label = 'Point Estimate')\n",
    "\n",
    "plt.legend()\n",
    "plt.show() "
   ]
  },
  {
   "cell_type": "markdown",
   "metadata": {},
   "source": [
    "## 90 and 95% bands\n",
    "\n",
    "You are looking at a 40-day rolling average of the NO2 pollution levels for the city of Cincinnati in 2013. To provide as detailed a picture of the uncertainty in the trend you want to look at both the 90 and 99% intervals around this rolling estimate.\n",
    "\n",
    "To do this, set up your two interval sizes and an orange ordinal color palette. Additionally, to enable precise readings of the bands, make them semi-transparent, so the Seaborn background grids show through.\n",
    "\n",
    "### Instructions\n",
    "* Set the opacity of the intervals to 40%.\n",
    "* Calculate the lower and upper confidence bounds.\n"
   ]
  },
  {
   "cell_type": "code",
   "execution_count": null,
   "metadata": {},
   "outputs": [],
   "source": [
    "int_widths = ['90%', '99%']\n",
    "z_scores = [1.67, 2.58]\n",
    "colors = ['#fc8d59', '#fee08b']\n",
    "\n",
    "for percent, Z, color in zip(int_widths, z_scores, colors):\n",
    "    \n",
    "    # Pass lower and upper confidence bounds and lower opacity\n",
    "    plt.fill_between(\n",
    "        x = cinci_13_no2.day, alpha = 0.4, color = color,\n",
    "        y1 = cinci_13_no2['mean'] - Z*cinci_13_no2['std_err'],\n",
    "        y2 = cinci_13_no2['mean'] + Z*cinci_13_no2['std_err'],\n",
    "        label = percent)\n",
    "    \n",
    "plt.legend()\n",
    "plt.show()"
   ]
  },
  {
   "cell_type": "markdown",
   "metadata": {},
   "source": [
    "## Using band thickness instead of coloring\n",
    "\n",
    "You are a researcher investigating the elevation a rocket reaches before visual is lost and pollutant levels at Vandenberg Air Force Base. You've built a model to predict this relationship (stored in the DataFrame rocket_height_model), and since you are working independently, you don't have the money to pay for color figures in your journal article. You need to make your model results plot work in black and white. To do this, you will plot the 90, 95, and 99% intervals of the effect of each pollutant as successively smaller bars.\n",
    "\n",
    "### Instructions\n",
    "* Use a thickness of `15` for 90%, `10` for 95%, and `5` for 99% interval lines.\n",
    "* Pass the interval thickness value to `plt.hlines()`.\n",
    "* Set the interval color to `'gray'` to lighten contrast.\n"
   ]
  },
  {
   "cell_type": "code",
   "execution_count": null,
   "metadata": {},
   "outputs": [],
   "source": [
    "# Decrase interval thickness as interval widens\n",
    "sizes =      [    15,  10,  5]\n",
    "int_widths = ['90% CI', '95%', '99%']\n",
    "z_scores =   [    1.67,  1.96,  2.58]\n",
    "\n",
    "for percent, Z, size in zip(int_widths, z_scores, sizes):\n",
    "    plt.hlines(y = rocket_model.pollutant, \n",
    "               xmin = rocket_model['est'] - Z*rocket_model['std_err'],\n",
    "               xmax = rocket_model['est'] + Z*rocket_model['std_err'],\n",
    "               label = percent, \n",
    "               # Resize lines and color them gray\n",
    "               linewidth = size, \n",
    "               color = 'gray') \n",
    "    \n",
    "# Add point estimate\n",
    "plt.plot('est', 'pollutant', 'wo', data = rocket_model, label = 'Point Estimate')\n",
    "plt.legend(loc = 'center left', bbox_to_anchor = (1, 0.5))\n",
    "plt.show()"
   ]
  },
  {
   "cell_type": "markdown",
   "metadata": {},
   "source": [
    "## The bootstrap histogram\n",
    "\n",
    "You are considering a vacation to Cincinnati in May, but you have a severe sensitivity to NO2. You pull a few years of pollution data from Cincinnati in May and look at a bootstrap estimate of the average NO2 levels. You only have one estimate to look at the best way to visualize the results of your bootstrap estimates is with a histogram.\n",
    "\n",
    "While you like the intuition of the bootstrap histogram by itself, your partner who will be going on the vacation with you, likes seeing percent intervals. To accommodate them, you decide to highlight the 95% interval by shading the region.\n",
    "\n",
    "### Instructions\n",
    "* Provide the `percentile()` function with the upper and lower percentiles needed to get a 95% interval.\n",
    "* Shade the background of the plot in the 95% interval.\n",
    "* Draw histogram of bootstrap means with 100 bins.\n"
   ]
  },
  {
   "cell_type": "code",
   "execution_count": null,
   "metadata": {},
   "outputs": [],
   "source": [
    "cinci_may_NO2 = pollution.query(\"city  ==  'Cincinnati' & month  ==  5\").NO2\n",
    "\n",
    "# Generate bootstrap samples\n",
    "boot_means = bootstrap(cinci_may_NO2, 1000)\n",
    "\n",
    "# Get lower and upper 95% interval bounds\n",
    "lower, upper = np.percentile(boot_means, [2.5, 97.5])\n",
    "\n",
    "# Plot shaded area for interval\n",
    "plt.axvspan(lower, upper, color = 'gray', alpha = 0.2)\n",
    "\n",
    "# Draw histogram of bootstrap samples\n",
    "sns.distplot(boot_means, bins = 100, kde = False)\n",
    "\n",
    "plt.show()"
   ]
  },
  {
   "cell_type": "markdown",
   "metadata": {},
   "source": [
    "## Bootstrapped regressions\n",
    "\n",
    "While working for the Long Beach parks and recreation department investigating the relationship between NO2 and SO2 you noticed a cluster of potential outliers that you suspect might be throwing off the correlations.\n",
    "\n",
    "![SO2 NO2 scatter](https://assets.datacamp.com/production/repositories/3841/datasets/79c91397ef0aa461017354cefaf90bfeb9474ac4/boot_regression_ex_intro.png)\n",
    "\n",
    "Investigate the uncertainty of your correlations through bootstrap resampling to see how stable your fits are. For convenience, the bootstrap sampling is complete and is provided as `no2_so2_boot` along with `no2_so2` for the non-resampled data.\n",
    "\n",
    "### Instructions\n",
    "* Let `sns.lmplot()` know that it needs to draw a separate regression line for each bootstrap sample.\n",
    "* Color every regression line `'steelblue'` and make them 20% opaque.\n",
    "* Disable the default Seaborn confidence bands around the regression lines.\n"
   ]
  },
  {
   "cell_type": "code",
   "execution_count": null,
   "metadata": {},
   "outputs": [],
   "source": [
    "sns.lmplot('NO2', 'SO2', data = no2_so2_boot,\n",
    "           # Tell seaborn to a regression line for each sample\n",
    "           hue = 'sample',\n",
    "           # Make lines blue and transparent\n",
    "           line_kws = {'color': 'steelblue', 'alpha': 0.2},\n",
    "           # Disable built-in confidence intervals\n",
    "           ci = None, legend = False, scatter = False)\n",
    "\n",
    "# Draw scatter of all points\n",
    "plt.scatter('NO2', 'SO2', data = no2_so2)\n",
    "\n",
    "plt.show()"
   ]
  },
  {
   "cell_type": "markdown",
   "metadata": {},
   "source": [
    "## Lots of bootstraps with beeswarms\n",
    "\n",
    "As a current resident of Cincinnati, you're curious to see how the average NO2 values compare to Des Moines, Indianapolis, and Houston: a few other cities you've lived in.\n",
    "\n",
    "To look at this, you decide to use bootstrap estimation to look at the mean NO2 values for each city. Because the comparisons are of primary interest, you will use a swarm plot to compare the estimates.\n",
    "\n",
    "The DataFrame `pollution_may` is provided along with the `bootstrap()` function seen in the slides for performing your bootstrap resampling.\n",
    "\n",
    "### Instructions\n",
    "* Run bootstrap resampling on each `city_NO2` vector.\n",
    "* Add city name as a column in the bootstrap DataFrame, `cur_boot`.\n",
    "* Color all swarm plot points `'coral'` to avoid the color-size problem.\n"
   ]
  },
  {
   "cell_type": "code",
   "execution_count": null,
   "metadata": {},
   "outputs": [],
   "source": [
    "# Initialize a holder DataFrame for bootstrap results\n",
    "city_boots = pd.DataFrame()\n",
    "\n",
    "for city in ['Cincinnati', 'Des Moines', 'Indianapolis', 'Houston']:\n",
    "    # Filter to city\n",
    "    city_NO2 = pollution_may[pollution_may.city  ==  city].NO2\n",
    "    # Bootstrap city data & put in DataFrame\n",
    "    cur_boot = pd.DataFrame({'NO2_avg': bootstrap(city_NO2, 100), 'city': city})\n",
    "    # Append to other city's bootstraps\n",
    "    city_boots = pd.concat([city_boots,cur_boot])\n",
    "\n",
    "# Beeswarm plot of averages with citys on y axis\n",
    "sns.swarmplot(y = \"city\", x = \"NO2_avg\", data = city_boots, color = 'coral')\n",
    "\n",
    "plt.show()"
   ]
  },
  {
   "cell_type": "markdown",
   "metadata": {},
   "source": [
    "# Ch. 4 - Visualization in the data science workflow"
   ]
  },
  {
   "cell_type": "markdown",
   "metadata": {},
   "source": [
    "## Looking at the farmers market data\n",
    "\n",
    "Loaded is a new dataset, markets. Each row of this DataFrame belongs to an individual farmers market in the continental United States with various information about the market contained in the columns. In this exercise, explore the columns of the data to get familiar with them for future analysis and plotting.\n",
    "\n",
    "As a first step, print out the first three lines of markets to get an idea of what type of data the columns encode. Then look at the summary descriptions of all of the columns. Since there are so many columns in the DataFrame, you'll want to turn the results 'sideways' by transposing the output to avoid cutting off rows.\n",
    "\n",
    "### Instructions\n",
    "* Print the first three rows of the data and transpose by chaining the `.transpose()` method to the DataFrame.\n",
    "* Print the basic description of every column along with its median (which is already specified for you with the percentiles argument) and again chain the `.transpose()` method.\n"
   ]
  },
  {
   "cell_type": "code",
   "execution_count": null,
   "metadata": {},
   "outputs": [],
   "source": [
    "# Print first three rows of data and transpose\n",
    "first_rows = markets.head(3).transpose()\n",
    "print(first_rows)\n",
    "\n",
    "# Get descriptions of every column\n",
    "col_descriptions = markets.describe(include = 'all',\n",
    "                                percentiles = [0.5]).transpose()\n",
    "print(col_descriptions)"
   ]
  },
  {
   "cell_type": "markdown",
   "metadata": {},
   "source": [
    "## Scatter matrix of numeric columns\n",
    "\n",
    "You've investigated the new farmer's market data, and it's rather wide – with lots of columns of information for each market's row. Rather than painstakingly going through every combination of numeric columns and making a scatter plot to look at correlations, you decide to make a scatter matrix using the pandas built-in function.\n",
    "\n",
    "Increasing the figure size with the figsize argument will help give the dense visualization some breathing room. Since there will be a lot of overlap for the points, decreasing the point opacity will help show the density of these overlaps.\n",
    "\n",
    "### Instructions\n",
    "* Subset the columns of the markets DataFrame to `numeric_columns` so the scatter matrix only shows numeric non-binary columns.\n",
    "* Increase figure size to `15` by `10` to avoid crowding.\n",
    "* Reduce point opacity to 50% to show regions of overlap."
   ]
  },
  {
   "cell_type": "code",
   "execution_count": null,
   "metadata": {},
   "outputs": [],
   "source": [
    "# Select just the numeric columns (exluding individual goods)\n",
    "numeric_columns = ['lat', 'lon', 'months_open', 'num_items_sold', 'state_pop']\n",
    "\n",
    "# Make a scatter matrix of numeric columns\n",
    "pd.plotting.scatter_matrix(markets[numeric_columns], \n",
    "                            # Make figure large to show details\n",
    "                             figsize = [15, 10], \n",
    "                           # Lower point opacity to show overlap\n",
    "                           alpha = 0.5)\n",
    "\n",
    "plt.show()"
   ]
  },
  {
   "cell_type": "markdown",
   "metadata": {},
   "source": [
    "## Digging in with basic transforms\n",
    "\n",
    "You are curious to see if the population of a state correlates to the number of items sold at farmer's markets. To check this, take the log of the population and draw a scatter plot against the number of items sold by a market. From your previous explorations of the dataset, you know there will be a lot of overlap, so to get a better handle on the patterns you want to reduce the marker opacity.\n",
    "\n",
    "### Instructions\n",
    "* Use `numpy` (imported as `np`) to create a new column: `log_pop` by taking the log of the state population.\n",
    "* Pass this newly created logged column to the scatter plot function's x-mapping.\n",
    "* Set the scatter plot's opacity to 25% to show overlap.\n"
   ]
  },
  {
   "cell_type": "code",
   "execution_count": null,
   "metadata": {},
   "outputs": [],
   "source": [
    "# Create a new logged population column \n",
    "markets['log_pop'] = np.log(markets['state_pop'])\n",
    "\n",
    "# Draw a scatterplot of log-population to # of items sold\n",
    "sns.scatterplot(x = 'log_pop', \n",
    "                  y = 'num_items_sold', \n",
    "                  # Reduce point opacity to show overlap\n",
    "                  alpha = 0.25, \n",
    "                  data = markets)\n",
    "\n",
    "plt.show()"
   ]
  },
  {
   "cell_type": "markdown",
   "metadata": {},
   "source": [
    "## Is latitude related to months open?\n",
    "\n",
    "While exploring the farmers market dataset with a scatter matrix, you noticed a potentially interesting relationship between a market's latitude and the number of months it stays open. Digging into this relationship a bit further, you decide to use Seaborn's regression plot to see if there's any weight to this pattern or if the heavy overlap of the points is playing tricks on your eyes.\n",
    "\n",
    "To make the regression line stand out, you'll want to lower the overlapping background points opacity and color them a muted gray. Since you're not going to be making any formal inference and want to quickly investigate a pattern, you can turn off the default uncertainty band.\n",
    "\n",
    "### Instructions\n",
    "* Set the scatter plot's points opacity to 10% and color them `'gray'`.\n",
    "* Disable the default confidence interval band."
   ]
  },
  {
   "cell_type": "code",
   "execution_count": null,
   "metadata": {},
   "outputs": [],
   "source": [
    "sns.regplot(x = 'lon', \n",
    "            y = 'months_open', \n",
    "            # Set scatter point opacity & color\n",
    "            scatter_kws = {'alpha':0.1, 'color':'gray'}, \n",
    "            # Disable confidence band\n",
    "            ci = False, \n",
    "            data = markets)\n",
    "\n",
    "plt.show()"
   ]
  },
  {
   "cell_type": "markdown",
   "metadata": {},
   "source": [
    "## What state is the most market-friendly?\n",
    "\n",
    "While exploring the farmer's market data, you wonder what patterns may show up if you aggregated to the state level. Are some states more market-friendly than other states? To investigate this, you group your data by state and get the log-transformed number of markets (`log_markets`) and state populations (`log_pop`).\n",
    "\n",
    "```\n",
    "markets_and_pop = (markets\n",
    "    .groupby('state', as_index = False)\n",
    "    .agg({\n",
    "       'name': lambda d: log(len(d)),\n",
    "       'state_pop': lambda d: log(d.iloc[0]) })\n",
    "    .rename(columns = {\n",
    "        'name': 'log_markets', \n",
    "        'state_pop': 'log_pop' }))\n",
    "```\n",
    "\n",
    "To visualize, you decide to use a regression plot to get an idea of the 'normal' relationship between market and population numbers and a text-scatter to quickly identify interesting outliers.\n",
    "\n",
    "### Instructions\n",
    "* Iterate over the rows of the `markets_and_pop` DataFrame.\n",
    "* Place annotations next to their scatter plot points.\n",
    "* Reduce annotation text size to 10 points.\n"
   ]
  },
  {
   "cell_type": "code",
   "execution_count": null,
   "metadata": {},
   "outputs": [],
   "source": [
    "g = sns.regplot(\n",
    "    \"log_markets\", \"log_pop\", \n",
    "    ci = False,\n",
    "    # Shrink scatter plot points\n",
    "    scatter_kws = {'s':2},\n",
    "    data = markets_and_pop)\n",
    "\n",
    "# Iterate over the rows of the data\n",
    "for _, row in markets_and_pop.iterrows():\n",
    "    state, _, _, log_markets, log_pop = row\n",
    "    # Place annotation and reduce size for clarity\n",
    "    g.annotate(state, (log_markets,log_pop), size = 10)\n",
    "\n",
    "plt.show()"
   ]
  },
  {
   "cell_type": "markdown",
   "metadata": {},
   "source": [
    "## Popularity of goods sold by state\n",
    "\n",
    "The farmer's market dataset contains columns corresponding to 28 different goods and whether or not they are sold at that market. You're curious to see if there are any interesting stories in this dataset regarding how likely you are to find a given good at a state's markets. To answer this question, you collapse the data into three columns:\n",
    "\n",
    "* `state` - the name of the state\n",
    "* `good` - the good of interest\n",
    "* `prop_selling` - the proportion of markets in that state that sell that good\n",
    "\n",
    "To quickly determine if patterns emerge, you choose a subset of goods you find interesting and decide to make a simple text-scatter: the good on the x-axis and the proportion of a state's markets that sell that good on the y-axis.\n",
    "\n",
    "### Instructions\n",
    "* Filter `goods_by_state` to the desired goods listed in `to_plot`.\n",
    "* Hide the scatter plot points by setting their size to nothing.\n",
    "    * _Note that in `sns.scatterplot()`, `size` is used to map values from a column to a size scale, and `s` is used to set a constant size for all points._\n",
    "* Make the text center aligned, so it sits directly on the good's x-axis location.\n"
   ]
  },
  {
   "cell_type": "code",
   "execution_count": null,
   "metadata": {},
   "outputs": [],
   "source": [
    "# Subset goods to interesting ones\n",
    "to_plot = ['Cheese','Maple','Fruits','Grains','Seafood','Plants','Vegetables']\n",
    "goods_by_state_small = goods_by_state.query(\"good in \"+str(to_plot))\n",
    "\n",
    "g = sns.scatterplot('good','prop_selling', data = goods_by_state_small,\n",
    "                    # Hide scatter points by shrinking to nothing\n",
    "                    s = 0)\n",
    "\n",
    "for _,row in goods_by_state_small.iterrows():\n",
    "  g.annotate(row['state'], (row['good'], row['prop_selling']), \n",
    "             # Center annotation on axis\n",
    "             ha = 'center', \n",
    "             size = 10)\n",
    "\n",
    "plt.show()"
   ]
  },
  {
   "cell_type": "markdown",
   "metadata": {},
   "source": [
    "## Stacking to find trends\n",
    "\n",
    "In the farmers market dataset, you are interested in the number of months that a market stays open in relation to its geography, more specifically its longitude. You're curious to see if there are any regions of the country that behave noticeably different from the others.\n",
    "\n",
    "To do this, you create a basic map with a scatter plot of the latitude and longitude of each market, coloring each market by the number of months it's open. Further digging into the latitude relationship, you draw a regression plot of the latitude to the number of months open with a flexible fit line to determine if any trends appear. You want to view these simultaneously to get the clearest picture of the trends.\n",
    "\n",
    "### Instructions\n",
    "* Set up `plt.subplots()` to have two vertically stacked plots.\n",
    "* Assign the first (top) plot to the `lon`, `lat` scatter plot.\n",
    "* Assign the second (bottom) plot to the `lon` to `months_open` regression plot.\n"
   ]
  },
  {
   "cell_type": "code",
   "execution_count": null,
   "metadata": {},
   "outputs": [],
   "source": [
    "# Setup two stacked plots\n",
    "_, (ax1, ax2) = plt.subplots(2, 1)\n",
    "\n",
    "# Draw location scatter plot on first plot\n",
    "sns.scatterplot(\"lat\", \"lon\", 'months_open', \n",
    "                palette = sns.light_palette(\"orangered\",n_colors = 12), \n",
    "                legend = False, data = markets,\n",
    "                ax = ax1);\n",
    "\n",
    "# Plot a regression plot on second plot\n",
    "sns.regplot('lat', 'months_open',\n",
    "            scatter_kws = {'alpha': 0.2, 'color': 'gray', 'marker': '|'},\n",
    "            lowess = True,\n",
    "            marker = '|', data = markets, \n",
    "            ax = ax2)\n",
    "\n",
    "plt.show()"
   ]
  },
  {
   "cell_type": "markdown",
   "metadata": {},
   "source": [
    "## Using a plot as a legend\n",
    "\n",
    "One interesting thread of investigation in the farmer's market data is a state's \"market friendliness\" and specifically, the outliers. One way to look at this is by using the ratio of farmer's markets to people by state. You could directly look at the ratio; however, a ratio throws away the raw information about a state's population and the number of markets. A large state with a high ratio could be more interesting than a small one.\n",
    "\n",
    "You can show both the ratio and raw numbers by drawing two plots, one of the ratio and the other of the market number to population scatter plot. To help simplify your now dense visualization, you can use the bar plot as a legend; calling out interesting states by matching the colors of their bars and scatter points.\n",
    "\n",
    "### Instructions\n",
    "* Set up two plots side-by-side using `plt.subplots()`.\n",
    "* Map the column `is_selected` to the color of both the bar and scatter plot.\n",
    "* Disable dodge on the bar plot, so the bars are full height.\n",
    "* Remove the legends in both plots.\n"
   ]
  },
  {
   "cell_type": "code",
   "execution_count": null,
   "metadata": {},
   "outputs": [],
   "source": [
    "# Set up two side-by-side plots\n",
    "f, (ax1, ax2) = plt.subplots(1, 2, figsize = (15, 15))\n",
    "\n",
    "# Map the column for selected states to the bar color\n",
    "sns.barplot('people_per_market', 'state', hue = 'is_selected',\n",
    "            # Disable dodge so bars are full size\n",
    "            dodge = False, \n",
    "            data = markets_by_state, ax = ax1)\n",
    "\n",
    "# Map selected states to point color\n",
    "sns.scatterplot('log_pop', 'log_markets', hue = 'is_selected', \n",
    "                data = markets_by_state, ax = ax2, s = 100)\n",
    "\n",
    "# Remove the legend for both plots\n",
    "ax1.legend_.remove()\n",
    "ax2.legend_.remove() \n",
    "plt.show()"
   ]
  },
  {
   "cell_type": "markdown",
   "metadata": {},
   "source": [
    "## Cleaning up the background\n",
    "\n",
    "While exploring state-level patterns in goods sold at farmer's markets, a few states stood out to you. North Dakota and New Mexico routinely fell near the bottom of the states regarding their proportion of farmer's markets selling a given good. Whereas Vermont was always near the top. You want to present the general patterns in good sales by state, while also highlighting the states you found interesting.\n",
    "\n",
    "You make a scatter plot of goods being sold by the proportion of markets that sell that good in a state. To highlight the interesting states, you draw a line between each of the state's points. To make a clean and minimal plot, you reduce the background to a simple set of orienting grids.\n",
    "\n",
    "### Instructions\n",
    "* Set the background of the plot to be white with gridlines.\n",
    "* Encode the x and y-axes of the scatter and line plots with the `'good'` being sold and `'prop selling'`, respectively.\n",
    "* Remove all of the borders from the plot. Remember, by default, `sns.despine()` only removes the top and right border lines (spines)!"
   ]
  },
  {
   "cell_type": "code",
   "execution_count": null,
   "metadata": {},
   "outputs": [],
   "source": [
    "# Set background to white with grid\n",
    "sns.set_style('whitegrid')\n",
    "\n",
    "plt.scatter('good','prop selling', marker = '_', alpha = 0.7, data = goods_by_state)\n",
    "\n",
    "# Draw lines across goods for highlighted states\n",
    "highlighted = goods_by_state.query(\"state in ['New Mexico','North Dakota','Vermont']\")\n",
    "sns.lineplot('good','prop selling', 'state', data = highlighted, legend = False)\n",
    "\n",
    "# Draw state name at end of lines\n",
    "last_rows = highlighted.groupby('state', as_index = False).agg('first')\n",
    "for _,row in last_rows.iterrows():\n",
    "    plt.annotate(row['state'], (row['good'], row['prop selling']),\n",
    "                 ha = 'right', xytext = (5,0), textcoords = 'offset pixels')\n",
    "\n",
    "# Remove all borders\n",
    "sns.despine(bottom = True, left = True)\n",
    "plt.show()"
   ]
  },
  {
   "cell_type": "markdown",
   "metadata": {},
   "source": [
    "## Remixing a plot\n",
    "\n",
    "You find the relationship between the latitude of a farmer's market and the number of months the market was open fascinating. Intuitively as one gets further South, the growing seasons are longer, and thus the markets can stay open longer. To visualize this story, you summarize the market data at the state level and draw a heatmap with columns corresponding to the duration the markets are open. Each row in the heatmap shows the distribution of the market \"season\" for a state and rows are sorted in descending order of the state's latitude.\n",
    "\n",
    "![heatmap](https://assets.datacamp.com/production/repositories/3841/datasets/12a73fa4da96381749ece02e55df6f6e1069a71c/latheatmap.png)\n",
    "\n",
    "The default heatmap leaves a lot to be desired. Decrease the font size to allow each state name to fit without overlap. The dark color palette also clashes with the light background, and the colorbar doesn't help the reader as the point is relative comparisons.\n",
    "\n",
    "### Instructions\n",
    "* Decrease the font size to 85% of the default to un-crowd state names.\n",
    "* Make new color palette that goes from `'white'` to `'steelblue'`.\n",
    "* Replace the default palette with the newly created one.\n",
    "* Remove the continuous color bar legend drawn next to heatmap."
   ]
  },
  {
   "cell_type": "code",
   "execution_count": null,
   "metadata": {},
   "outputs": [],
   "source": [
    "# Decrease font size so state names are less crowded\n",
    "sns.set(font_scale = 0.85)\n",
    "\n",
    "# Switch to an appropriate color palette\n",
    "blue_pal = sns.light_palette(\"steelblue\", as_cmap = True)\n",
    "\n",
    "# Order states by longitude\n",
    "g = sns.heatmap(markets_by_month.reindex(state_by_lon), \n",
    "            # Add gaps between cells\n",
    "            linewidths = 0.1, \n",
    "            # Set new palette and remove color bar \n",
    "            cmap = blue_pal, cbar = False,\n",
    "            yticklabels = True)\n",
    "\n",
    "# Rotate y-axis ticks \n",
    "g.set_yticklabels(g.get_yticklabels(), rotation = 0)\n",
    "plt.title('Distribution of months open for farmers markets by longitude')\n",
    "plt.show()"
   ]
  },
  {
   "cell_type": "markdown",
   "metadata": {},
   "source": [
    "## Enhancing legibility\n",
    "\n",
    "You and your colleagues have decided that the most important aspect of the data you want to show is the differences between the most \"market-friendly\" state, Vermont, and the least, Texas. To do this, put two plots side by side – a barplot showing the number of people per farmer's market in the state and a scatter plot showing the population on the x-axis and the number of markets on the y-axis.\n",
    "\n",
    "Emphasize your findings by calling out Vermont and Texas by assigning them distinct colors. Also, provide a large and easy to read annotation for Texas.\n",
    "\n",
    "Supplied is a vector `state_colors` that assigns Vermont and Texas unique colors and all other states gray along with the annotation describing Texas, `tx_message`.\n",
    "\n",
    "### Instructions\n",
    "* Map the supplied color vector `state_colors` to the bar plot (ax1) with the palette argument in `sns.barplot()`.\n",
    "* Map the color vector to the scatter plot points with the color argument.\n",
    "* Make sure annotation text is legible by changing its size to 15.\n"
   ]
  },
  {
   "cell_type": "code",
   "execution_count": null,
   "metadata": {},
   "outputs": [],
   "source": [
    "# Draw barplot w/ colors mapped to state_colors vector\n",
    "sns.barplot('people_per_market', 'state', palette = state_colors,\n",
    "            data = markets_by_state, ax = ax1)\n",
    "\n",
    "# Map state colors vector to the scatterplot as well\n",
    "p = sns.scatterplot('population', 'num_markets', color = state_colors,\n",
    "                    data = markets_by_state, s = 60, ax = ax2)\n",
    "\n",
    "# Log the x and y scales of our scatter plot so it's easier to read\n",
    "ax2.set(xscale = \"log\", yscale = 'log')\n",
    "\n",
    "# Increase annotation text size for legibility\n",
    "ax2.annotate(tx_message, xy = (26956958,230), \n",
    "             xytext = (26956958, 450),ha = 'right', \n",
    "             size = 15, backgroundcolor = 'white',\n",
    "             arrowprops = {'facecolor':'black', 'width': 3})\n",
    "sns.set_style('whitegrid')\n",
    "plt.show()"
   ]
  }
 ]
}